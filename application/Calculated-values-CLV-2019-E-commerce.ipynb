{
 "cells": [
  {
   "cell_type": "markdown",
   "metadata": {},
   "source": [
    "# How to use this code?\n",
    "\n",
    "1. Make a copy of the code. Make sure you save it in the same folder\n",
    "2. Save your clients file in the incoming folder\n",
    "3. Edit the code where necessary. See comment lines before the code to check where you have to change the code"
   ]
  },
  {
   "cell_type": "markdown",
   "metadata": {},
   "source": [
    "# Choose file to process"
   ]
  },
  {
   "cell_type": "code",
   "execution_count": 1,
   "metadata": {},
   "outputs": [
    {
     "name": "stdout",
     "output_type": "stream",
     "text": [
      "Filename of file in /incoming/ folder: herzien-dierenapotheek.csv\n",
      "Client's name: Dierenapotheek\n"
     ]
    }
   ],
   "source": [
    "# Please enter the name of the file after executing this cell (leave empty for test data)\n",
    "filename = input('Filename of file in /incoming/ folder: ')\n",
    "client = input('Client\\'s name: ')\n",
    "client = client if client else 'Test'"
   ]
  },
  {
   "cell_type": "markdown",
   "metadata": {},
   "source": [
    "# Import needed libraries"
   ]
  },
  {
   "cell_type": "code",
   "execution_count": 2,
   "metadata": {},
   "outputs": [],
   "source": [
    "from datetime import datetime\n",
    "from pathlib import Path\n",
    "import helpers  # custom helper functions\n",
    "import numpy as np\n",
    "import pandas as pd\n",
    "import pandas.api.types as ptypes\n",
    "\n",
    "assert pd.__version__ > '0.24.9'   # Need Pandas version 0.25.0 or higher"
   ]
  },
  {
   "cell_type": "markdown",
   "metadata": {},
   "source": [
    "# Import file and filter data"
   ]
  },
  {
   "cell_type": "code",
   "execution_count": 3,
   "metadata": {},
   "outputs": [
    {
     "name": "stdout",
     "output_type": "stream",
     "text": [
      "Processing:  /Users/chiwang/Google Drive/1. IWB/Python/GitHub/incoming/herzien-dierenapotheek.csv\n",
      "For client:  Dierenapotheek\n"
     ]
    }
   ],
   "source": [
    "# Building the full path to the file\n",
    "path = Path().absolute().parent  # each '.parent' goes one level up - vary as required\n",
    "if filename:\n",
    "    file = f'{path}/incoming/{filename}'\n",
    "else:\n",
    "    file = f'{path}/samples/sample-dataset.csv'\n",
    "\n",
    "# Path for outgoing files\n",
    "path_outgoing = f'{path}/outgoing/'\n",
    "\n",
    "print('Processing: ', file)\n",
    "print('For client: ', client)"
   ]
  },
  {
   "cell_type": "code",
   "execution_count": 13,
   "metadata": {},
   "outputs": [
    {
     "data": {
      "text/html": [
       "<div>\n",
       "<style scoped>\n",
       "    .dataframe tbody tr th:only-of-type {\n",
       "        vertical-align: middle;\n",
       "    }\n",
       "\n",
       "    .dataframe tbody tr th {\n",
       "        vertical-align: top;\n",
       "    }\n",
       "\n",
       "    .dataframe thead th {\n",
       "        text-align: right;\n",
       "    }\n",
       "</style>\n",
       "<table border=\"1\" class=\"dataframe\">\n",
       "  <thead>\n",
       "    <tr style=\"text-align: right;\">\n",
       "      <th></th>\n",
       "      <th>email</th>\n",
       "      <th>Orderdate</th>\n",
       "      <th>OrderID</th>\n",
       "      <th>Revenue</th>\n",
       "      <th>COGS</th>\n",
       "    </tr>\n",
       "  </thead>\n",
       "  <tbody>\n",
       "    <tr>\n",
       "      <td>0</td>\n",
       "      <td>mirandaverhoeff@ziggo.nl</td>\n",
       "      <td>2018-12-31</td>\n",
       "      <td>247197691</td>\n",
       "      <td>14,45</td>\n",
       "      <td>4,34</td>\n",
       "    </tr>\n",
       "    <tr>\n",
       "      <td>1</td>\n",
       "      <td>j.hydra1@chello.nl</td>\n",
       "      <td>2018-12-31</td>\n",
       "      <td>247188831</td>\n",
       "      <td>110,85</td>\n",
       "      <td>33,26</td>\n",
       "    </tr>\n",
       "    <tr>\n",
       "      <td>2</td>\n",
       "      <td>arrowsflight123@gmail.com</td>\n",
       "      <td>2018-12-31</td>\n",
       "      <td>247150721</td>\n",
       "      <td>116,85</td>\n",
       "      <td>35,06</td>\n",
       "    </tr>\n",
       "    <tr>\n",
       "      <td>3</td>\n",
       "      <td>m.keesmekers@gmail.com</td>\n",
       "      <td>2018-12-31</td>\n",
       "      <td>247147717</td>\n",
       "      <td>6,40</td>\n",
       "      <td>1,92</td>\n",
       "    </tr>\n",
       "    <tr>\n",
       "      <td>4</td>\n",
       "      <td>scrabble1@kpnmail.nl</td>\n",
       "      <td>2018-12-31</td>\n",
       "      <td>247145195</td>\n",
       "      <td>51,20</td>\n",
       "      <td>15,36</td>\n",
       "    </tr>\n",
       "  </tbody>\n",
       "</table>\n",
       "</div>"
      ],
      "text/plain": [
       "                       email  Orderdate    OrderID Revenue   COGS\n",
       "0   mirandaverhoeff@ziggo.nl 2018-12-31  247197691   14,45   4,34\n",
       "1         j.hydra1@chello.nl 2018-12-31  247188831  110,85  33,26\n",
       "2  arrowsflight123@gmail.com 2018-12-31  247150721  116,85  35,06\n",
       "3     m.keesmekers@gmail.com 2018-12-31  247147717    6,40   1,92\n",
       "4       scrabble1@kpnmail.nl 2018-12-31  247145195   51,20  15,36"
      ]
     },
     "execution_count": 13,
     "metadata": {},
     "output_type": "execute_result"
    }
   ],
   "source": [
    "# File import\n",
    "# To do: choose the right columns from the dataset\n",
    "# for excel: data = pd.read_excel(file) \n",
    "# df = pd.DataFrame(data, columns = [''])\n",
    "\n",
    "df = pd.read_csv(file, sep = None, delimiter = None, \n",
    "                 usecols = ['email','Orderdate','OrderID','Revenue','COGS'],\n",
    "                 parse_dates=['Orderdate'], infer_datetime_format=True, dayfirst=True,\n",
    "                 engine = 'python', dtype = {'email': str,'OrderID':int,}) #'Revenue':float, 'COGS':float}) \n",
    "df.head()"
   ]
  },
  {
   "cell_type": "code",
   "execution_count": 14,
   "metadata": {
    "scrolled": true
   },
   "outputs": [
    {
     "name": "stdout",
     "output_type": "stream",
     "text": [
      "<class 'pandas.core.frame.DataFrame'>\n",
      "RangeIndex: 9948 entries, 0 to 9947\n",
      "Data columns (total 5 columns):\n",
      "email        9804 non-null object\n",
      "Orderdate    8924 non-null datetime64[ns]\n",
      "OrderID      9948 non-null int64\n",
      "Revenue      9948 non-null object\n",
      "COGS         9948 non-null object\n",
      "dtypes: datetime64[ns](1), int64(1), object(3)\n",
      "memory usage: 388.7+ KB\n"
     ]
    }
   ],
   "source": [
    "df.info()"
   ]
  },
  {
   "cell_type": "code",
   "execution_count": 15,
   "metadata": {},
   "outputs": [
    {
     "data": {
      "text/html": [
       "<div>\n",
       "<style scoped>\n",
       "    .dataframe tbody tr th:only-of-type {\n",
       "        vertical-align: middle;\n",
       "    }\n",
       "\n",
       "    .dataframe tbody tr th {\n",
       "        vertical-align: top;\n",
       "    }\n",
       "\n",
       "    .dataframe thead th {\n",
       "        text-align: right;\n",
       "    }\n",
       "</style>\n",
       "<table border=\"1\" class=\"dataframe\">\n",
       "  <thead>\n",
       "    <tr style=\"text-align: right;\">\n",
       "      <th></th>\n",
       "      <th>email</th>\n",
       "      <th>Orderdate</th>\n",
       "      <th>OrderID</th>\n",
       "      <th>Revenue</th>\n",
       "      <th>COGS</th>\n",
       "    </tr>\n",
       "  </thead>\n",
       "  <tbody>\n",
       "    <tr>\n",
       "      <td>0</td>\n",
       "      <td>mirandaverhoeff@ziggo.nl</td>\n",
       "      <td>2018-12-31</td>\n",
       "      <td>247197691</td>\n",
       "      <td>14,45</td>\n",
       "      <td>4,34</td>\n",
       "    </tr>\n",
       "    <tr>\n",
       "      <td>1</td>\n",
       "      <td>j.hydra1@chello.nl</td>\n",
       "      <td>2018-12-31</td>\n",
       "      <td>247188831</td>\n",
       "      <td>110,85</td>\n",
       "      <td>33,26</td>\n",
       "    </tr>\n",
       "    <tr>\n",
       "      <td>2</td>\n",
       "      <td>arrowsflight123@gmail.com</td>\n",
       "      <td>2018-12-31</td>\n",
       "      <td>247150721</td>\n",
       "      <td>116,85</td>\n",
       "      <td>35,06</td>\n",
       "    </tr>\n",
       "    <tr>\n",
       "      <td>3</td>\n",
       "      <td>m.keesmekers@gmail.com</td>\n",
       "      <td>2018-12-31</td>\n",
       "      <td>247147717</td>\n",
       "      <td>6,40</td>\n",
       "      <td>1,92</td>\n",
       "    </tr>\n",
       "    <tr>\n",
       "      <td>4</td>\n",
       "      <td>scrabble1@kpnmail.nl</td>\n",
       "      <td>2018-12-31</td>\n",
       "      <td>247145195</td>\n",
       "      <td>51,20</td>\n",
       "      <td>15,36</td>\n",
       "    </tr>\n",
       "  </tbody>\n",
       "</table>\n",
       "</div>"
      ],
      "text/plain": [
       "                       email  Orderdate    OrderID Revenue   COGS\n",
       "0   mirandaverhoeff@ziggo.nl 2018-12-31  247197691   14,45   4,34\n",
       "1         j.hydra1@chello.nl 2018-12-31  247188831  110,85  33,26\n",
       "2  arrowsflight123@gmail.com 2018-12-31  247150721  116,85  35,06\n",
       "3     m.keesmekers@gmail.com 2018-12-31  247147717    6,40   1,92\n",
       "4       scrabble1@kpnmail.nl 2018-12-31  247145195   51,20  15,36"
      ]
     },
     "execution_count": 15,
     "metadata": {},
     "output_type": "execute_result"
    }
   ],
   "source": [
    "# Delete empty rows'NaT'\n",
    "# Check email contains @ -> aanpassen als je geen gebruik maakt van email als client id\n",
    "# Delete duplicates in orderID -> naam aanmpassen naar naam van de kolom \n",
    "\n",
    "#df = df.dropna(axis=0, how='any')\n",
    "#df = df[df['email'].str.contains('@')]\n",
    "df = df.dropna(subset=['email'])\n",
    "df = df.drop_duplicates('OrderID', keep='first')\n",
    "df.head()"
   ]
  },
  {
   "cell_type": "code",
   "execution_count": 16,
   "metadata": {
    "scrolled": true
   },
   "outputs": [
    {
     "name": "stdout",
     "output_type": "stream",
     "text": [
      "<class 'pandas.core.frame.DataFrame'>\n",
      "Int64Index: 9804 entries, 0 to 9947\n",
      "Data columns (total 5 columns):\n",
      "email        9804 non-null object\n",
      "Orderdate    8780 non-null datetime64[ns]\n",
      "OrderID      9804 non-null int64\n",
      "Revenue      9804 non-null object\n",
      "COGS         9804 non-null object\n",
      "dtypes: datetime64[ns](1), int64(1), object(3)\n",
      "memory usage: 459.6+ KB\n"
     ]
    }
   ],
   "source": [
    "df.info()"
   ]
  },
  {
   "cell_type": "code",
   "execution_count": 17,
   "metadata": {},
   "outputs": [
    {
     "data": {
      "text/html": [
       "<div>\n",
       "<style scoped>\n",
       "    .dataframe tbody tr th:only-of-type {\n",
       "        vertical-align: middle;\n",
       "    }\n",
       "\n",
       "    .dataframe tbody tr th {\n",
       "        vertical-align: top;\n",
       "    }\n",
       "\n",
       "    .dataframe thead th {\n",
       "        text-align: right;\n",
       "    }\n",
       "</style>\n",
       "<table border=\"1\" class=\"dataframe\">\n",
       "  <thead>\n",
       "    <tr style=\"text-align: right;\">\n",
       "      <th></th>\n",
       "      <th>OrderID</th>\n",
       "    </tr>\n",
       "  </thead>\n",
       "  <tbody>\n",
       "    <tr>\n",
       "      <td>count</td>\n",
       "      <td>9.804000e+03</td>\n",
       "    </tr>\n",
       "    <tr>\n",
       "      <td>mean</td>\n",
       "      <td>2.164266e+08</td>\n",
       "    </tr>\n",
       "    <tr>\n",
       "      <td>std</td>\n",
       "      <td>1.589219e+07</td>\n",
       "    </tr>\n",
       "    <tr>\n",
       "      <td>min</td>\n",
       "      <td>1.885974e+08</td>\n",
       "    </tr>\n",
       "    <tr>\n",
       "      <td>25%</td>\n",
       "      <td>2.027434e+08</td>\n",
       "    </tr>\n",
       "    <tr>\n",
       "      <td>50%</td>\n",
       "      <td>2.165292e+08</td>\n",
       "    </tr>\n",
       "    <tr>\n",
       "      <td>75%</td>\n",
       "      <td>2.291189e+08</td>\n",
       "    </tr>\n",
       "    <tr>\n",
       "      <td>max</td>\n",
       "      <td>2.471977e+08</td>\n",
       "    </tr>\n",
       "  </tbody>\n",
       "</table>\n",
       "</div>"
      ],
      "text/plain": [
       "            OrderID\n",
       "count  9.804000e+03\n",
       "mean   2.164266e+08\n",
       "std    1.589219e+07\n",
       "min    1.885974e+08\n",
       "25%    2.027434e+08\n",
       "50%    2.165292e+08\n",
       "75%    2.291189e+08\n",
       "max    2.471977e+08"
      ]
     },
     "execution_count": 17,
     "metadata": {},
     "output_type": "execute_result"
    }
   ],
   "source": [
    "df.describe()"
   ]
  },
  {
   "cell_type": "code",
   "execution_count": 18,
   "metadata": {},
   "outputs": [],
   "source": [
    "# Filtering the data (these rules are specific for Maxilia -> delete if not necessary or change to needed values)\n",
    "# Leadphase = order\n",
    "# Leadstatus = gefactureerd\n",
    "#df = df[df['LeadPhase'].str.contains('Order')]\n",
    "#df = df[df['LeadStatus'].str.contains('Gefactureerd')]\n",
    "#df.head()"
   ]
  },
  {
   "cell_type": "code",
   "execution_count": 19,
   "metadata": {},
   "outputs": [
    {
     "name": "stdout",
     "output_type": "stream",
     "text": [
      "<class 'pandas.core.frame.DataFrame'>\n",
      "Int64Index: 9804 entries, 0 to 9947\n",
      "Data columns (total 5 columns):\n",
      "email        9804 non-null object\n",
      "Orderdate    8780 non-null datetime64[ns]\n",
      "OrderID      9804 non-null int64\n",
      "Revenue      9804 non-null object\n",
      "COGS         9804 non-null object\n",
      "dtypes: datetime64[ns](1), int64(1), object(3)\n",
      "memory usage: 459.6+ KB\n"
     ]
    }
   ],
   "source": [
    "df.info()"
   ]
  },
  {
   "cell_type": "code",
   "execution_count": 20,
   "metadata": {},
   "outputs": [],
   "source": [
    "# Check if the data equals certain conditions\n",
    "assert ptypes.is_datetime64_any_dtype(df['Orderdate'])\n",
    "assert df['email'].str.contains('@').all()\n",
    "#assert df['LeadPhase'].eq('Order').all()\n",
    "#assert df['LeadStatus'].eq('Gefactureerd').all()"
   ]
  },
  {
   "cell_type": "markdown",
   "metadata": {},
   "source": [
    "# Group data per customer"
   ]
  },
  {
   "cell_type": "code",
   "execution_count": 23,
   "metadata": {},
   "outputs": [
    {
     "data": {
      "text/html": [
       "<div>\n",
       "<style scoped>\n",
       "    .dataframe tbody tr th:only-of-type {\n",
       "        vertical-align: middle;\n",
       "    }\n",
       "\n",
       "    .dataframe tbody tr th {\n",
       "        vertical-align: top;\n",
       "    }\n",
       "\n",
       "    .dataframe thead th {\n",
       "        text-align: right;\n",
       "    }\n",
       "</style>\n",
       "<table border=\"1\" class=\"dataframe\">\n",
       "  <thead>\n",
       "    <tr style=\"text-align: right;\">\n",
       "      <th></th>\n",
       "      <th>total_transactions</th>\n",
       "      <th>total_spent</th>\n",
       "      <th>days_customer</th>\n",
       "    </tr>\n",
       "    <tr>\n",
       "      <th>email</th>\n",
       "      <th></th>\n",
       "      <th></th>\n",
       "      <th></th>\n",
       "    </tr>\n",
       "  </thead>\n",
       "  <tbody>\n",
       "    <tr>\n",
       "      <td>040dave@gmail.com</td>\n",
       "      <td>1</td>\n",
       "      <td>12,95</td>\n",
       "      <td>0.0</td>\n",
       "    </tr>\n",
       "    <tr>\n",
       "      <td>045043@kpnmail.nl</td>\n",
       "      <td>1</td>\n",
       "      <td>46,90</td>\n",
       "      <td>0.0</td>\n",
       "    </tr>\n",
       "    <tr>\n",
       "      <td>1.annemie@telenet.be</td>\n",
       "      <td>2</td>\n",
       "      <td>87,95339,65</td>\n",
       "      <td>1.0</td>\n",
       "    </tr>\n",
       "    <tr>\n",
       "      <td>123karineric@casema.nl</td>\n",
       "      <td>1</td>\n",
       "      <td>15,25</td>\n",
       "      <td>0.0</td>\n",
       "    </tr>\n",
       "    <tr>\n",
       "      <td>133850ron@gmail.com</td>\n",
       "      <td>1</td>\n",
       "      <td>41,20</td>\n",
       "      <td>0.0</td>\n",
       "    </tr>\n",
       "  </tbody>\n",
       "</table>\n",
       "</div>"
      ],
      "text/plain": [
       "                        total_transactions  total_spent  days_customer\n",
       "email                                                                 \n",
       "040dave@gmail.com                        1        12,95            0.0\n",
       "045043@kpnmail.nl                        1        46,90            0.0\n",
       "1.annemie@telenet.be                     2  87,95339,65            1.0\n",
       "123karineric@casema.nl                   1        15,25            0.0\n",
       "133850ron@gmail.com                      1        41,20            0.0"
      ]
     },
     "execution_count": 23,
     "metadata": {},
     "output_type": "execute_result"
    }
   ],
   "source": [
    "# Here the data is being grouped by email. \n",
    "# To do: change the variables into the right column names of the data set\n",
    "\n",
    "# The first and last transaction are taken to calculate how many days someone is a customer\n",
    "# The number of orders (how many OrderID's per customer) per customer is calculated\n",
    "# The sum of all spend is calculated\n",
    "\n",
    "df_clv = df.groupby('email').agg(\n",
    "    first_transaction=('Orderdate', min),\n",
    "    last_transaction=('Orderdate', max),\n",
    "    total_transactions=('OrderID', len), \n",
    "    total_spent=('Revenue', sum)\n",
    ") \n",
    "df_clv['days_customer'] = (df_clv['last_transaction'] - df_clv['first_transaction']).dt.days\n",
    "df_clv.drop(['first_transaction', 'last_transaction'], axis=1, inplace=True)\n",
    "df_clv.head()"
   ]
  },
  {
   "cell_type": "code",
   "execution_count": 24,
   "metadata": {},
   "outputs": [
    {
     "data": {
      "text/html": [
       "<div>\n",
       "<style scoped>\n",
       "    .dataframe tbody tr th:only-of-type {\n",
       "        vertical-align: middle;\n",
       "    }\n",
       "\n",
       "    .dataframe tbody tr th {\n",
       "        vertical-align: top;\n",
       "    }\n",
       "\n",
       "    .dataframe thead th {\n",
       "        text-align: right;\n",
       "    }\n",
       "</style>\n",
       "<table border=\"1\" class=\"dataframe\">\n",
       "  <thead>\n",
       "    <tr style=\"text-align: right;\">\n",
       "      <th></th>\n",
       "      <th>days_customer</th>\n",
       "      <th>total_transactions</th>\n",
       "      <th>total_spent</th>\n",
       "    </tr>\n",
       "    <tr>\n",
       "      <th>email</th>\n",
       "      <th></th>\n",
       "      <th></th>\n",
       "      <th></th>\n",
       "    </tr>\n",
       "  </thead>\n",
       "  <tbody>\n",
       "    <tr>\n",
       "      <td>040dave@gmail.com</td>\n",
       "      <td>1</td>\n",
       "      <td>12,95</td>\n",
       "      <td>0.0</td>\n",
       "    </tr>\n",
       "    <tr>\n",
       "      <td>045043@kpnmail.nl</td>\n",
       "      <td>1</td>\n",
       "      <td>46,90</td>\n",
       "      <td>0.0</td>\n",
       "    </tr>\n",
       "    <tr>\n",
       "      <td>1.annemie@telenet.be</td>\n",
       "      <td>2</td>\n",
       "      <td>87,95339,65</td>\n",
       "      <td>1.0</td>\n",
       "    </tr>\n",
       "    <tr>\n",
       "      <td>123karineric@casema.nl</td>\n",
       "      <td>1</td>\n",
       "      <td>15,25</td>\n",
       "      <td>0.0</td>\n",
       "    </tr>\n",
       "    <tr>\n",
       "      <td>133850ron@gmail.com</td>\n",
       "      <td>1</td>\n",
       "      <td>41,20</td>\n",
       "      <td>0.0</td>\n",
       "    </tr>\n",
       "  </tbody>\n",
       "</table>\n",
       "</div>"
      ],
      "text/plain": [
       "                        days_customer total_transactions  total_spent\n",
       "email                                                                \n",
       "040dave@gmail.com                   1              12,95          0.0\n",
       "045043@kpnmail.nl                   1              46,90          0.0\n",
       "1.annemie@telenet.be                2        87,95339,65          1.0\n",
       "123karineric@casema.nl              1              15,25          0.0\n",
       "133850ron@gmail.com                 1              41,20          0.0"
      ]
     },
     "execution_count": 24,
     "metadata": {},
     "output_type": "execute_result"
    }
   ],
   "source": [
    "df_clv.columns = ['days_customer', 'total_transactions', 'total_spent']\n",
    "df_clv.head()"
   ]
  },
  {
   "cell_type": "code",
   "execution_count": 25,
   "metadata": {},
   "outputs": [
    {
     "data": {
      "text/html": [
       "<div>\n",
       "<style scoped>\n",
       "    .dataframe tbody tr th:only-of-type {\n",
       "        vertical-align: middle;\n",
       "    }\n",
       "\n",
       "    .dataframe tbody tr th {\n",
       "        vertical-align: top;\n",
       "    }\n",
       "\n",
       "    .dataframe thead th {\n",
       "        text-align: right;\n",
       "    }\n",
       "</style>\n",
       "<table border=\"1\" class=\"dataframe\">\n",
       "  <thead>\n",
       "    <tr style=\"text-align: right;\">\n",
       "      <th></th>\n",
       "      <th>days_customer</th>\n",
       "      <th>total_spent</th>\n",
       "    </tr>\n",
       "  </thead>\n",
       "  <tbody>\n",
       "    <tr>\n",
       "      <td>count</td>\n",
       "      <td>7081.000000</td>\n",
       "      <td>6905.000000</td>\n",
       "    </tr>\n",
       "    <tr>\n",
       "      <td>mean</td>\n",
       "      <td>1.384550</td>\n",
       "      <td>17.602317</td>\n",
       "    </tr>\n",
       "    <tr>\n",
       "      <td>std</td>\n",
       "      <td>1.020266</td>\n",
       "      <td>51.784164</td>\n",
       "    </tr>\n",
       "    <tr>\n",
       "      <td>min</td>\n",
       "      <td>1.000000</td>\n",
       "      <td>0.000000</td>\n",
       "    </tr>\n",
       "    <tr>\n",
       "      <td>25%</td>\n",
       "      <td>1.000000</td>\n",
       "      <td>0.000000</td>\n",
       "    </tr>\n",
       "    <tr>\n",
       "      <td>50%</td>\n",
       "      <td>1.000000</td>\n",
       "      <td>0.000000</td>\n",
       "    </tr>\n",
       "    <tr>\n",
       "      <td>75%</td>\n",
       "      <td>1.000000</td>\n",
       "      <td>0.000000</td>\n",
       "    </tr>\n",
       "    <tr>\n",
       "      <td>max</td>\n",
       "      <td>20.000000</td>\n",
       "      <td>305.000000</td>\n",
       "    </tr>\n",
       "  </tbody>\n",
       "</table>\n",
       "</div>"
      ],
      "text/plain": [
       "       days_customer  total_spent\n",
       "count    7081.000000  6905.000000\n",
       "mean        1.384550    17.602317\n",
       "std         1.020266    51.784164\n",
       "min         1.000000     0.000000\n",
       "25%         1.000000     0.000000\n",
       "50%         1.000000     0.000000\n",
       "75%         1.000000     0.000000\n",
       "max        20.000000   305.000000"
      ]
     },
     "execution_count": 25,
     "metadata": {},
     "output_type": "execute_result"
    }
   ],
   "source": [
    "df_clv.describe()"
   ]
  },
  {
   "cell_type": "code",
   "execution_count": 26,
   "metadata": {},
   "outputs": [],
   "source": [
    "# Export to file\n",
    "# df_clv.to_excel(f'{path_outgoing}{client} - Overzicht_per_klant.xlsx')\n",
    "df_clv.to_csv(f'{path_outgoing}{client} - Overzicht_per_klant.csv')"
   ]
  },
  {
   "cell_type": "markdown",
   "metadata": {},
   "source": [
    "# Calculating the total CLV"
   ]
  },
  {
   "cell_type": "code",
   "execution_count": 27,
   "metadata": {},
   "outputs": [],
   "source": [
    "# Initiate a dictionary that holds all calculated values\n",
    "calculated = {}"
   ]
  },
  {
   "cell_type": "code",
   "execution_count": 28,
   "metadata": {},
   "outputs": [
    {
     "ename": "TypeError",
     "evalue": "unsupported operand type(s) for +: 'int' and 'str'",
     "output_type": "error",
     "traceback": [
      "\u001b[0;31m---------------------------------------------------------------------------\u001b[0m",
      "\u001b[0;31mTypeError\u001b[0m                                 Traceback (most recent call last)",
      "\u001b[0;32m<ipython-input-28-b5a3b89056ef>\u001b[0m in \u001b[0;36m<module>\u001b[0;34m\u001b[0m\n\u001b[1;32m      1\u001b[0m \u001b[0;31m# Calculate the average order value\u001b[0m\u001b[0;34m\u001b[0m\u001b[0;34m\u001b[0m\u001b[0;34m\u001b[0m\u001b[0m\n\u001b[1;32m      2\u001b[0m \u001b[0;34m\u001b[0m\u001b[0m\n\u001b[0;32m----> 3\u001b[0;31m \u001b[0mavg_order_value\u001b[0m \u001b[0;34m=\u001b[0m \u001b[0msum\u001b[0m\u001b[0;34m(\u001b[0m\u001b[0mdf_clv\u001b[0m\u001b[0;34m[\u001b[0m\u001b[0;34m'total_spent'\u001b[0m\u001b[0;34m]\u001b[0m\u001b[0;34m)\u001b[0m \u001b[0;34m/\u001b[0m \u001b[0msum\u001b[0m\u001b[0;34m(\u001b[0m\u001b[0mdf_clv\u001b[0m\u001b[0;34m[\u001b[0m\u001b[0;34m'total_transactions'\u001b[0m\u001b[0;34m]\u001b[0m\u001b[0;34m)\u001b[0m\u001b[0;34m\u001b[0m\u001b[0;34m\u001b[0m\u001b[0m\n\u001b[0m\u001b[1;32m      4\u001b[0m \u001b[0mcalculated\u001b[0m\u001b[0;34m[\u001b[0m\u001b[0;34m'Gemiddelde orderwaarde'\u001b[0m\u001b[0;34m]\u001b[0m \u001b[0;34m=\u001b[0m \u001b[0mavg_order_value\u001b[0m\u001b[0;34m\u001b[0m\u001b[0;34m\u001b[0m\u001b[0m\n\u001b[1;32m      5\u001b[0m \u001b[0mprint\u001b[0m\u001b[0;34m(\u001b[0m\u001b[0mavg_order_value\u001b[0m\u001b[0;34m)\u001b[0m\u001b[0;34m\u001b[0m\u001b[0;34m\u001b[0m\u001b[0m\n",
      "\u001b[0;31mTypeError\u001b[0m: unsupported operand type(s) for +: 'int' and 'str'"
     ]
    }
   ],
   "source": [
    "# Calculate the average order value\n",
    "\n",
    "avg_order_value = sum(df_clv['total_spent']) / sum(df_clv['total_transactions'])\n",
    "calculated['Gemiddelde orderwaarde'] = avg_order_value\n",
    "print(avg_order_value)"
   ]
  },
  {
   "cell_type": "code",
   "execution_count": null,
   "metadata": {},
   "outputs": [],
   "source": [
    "# Calculate how often someone buys from the company\n",
    "\n",
    "purchase_frequency = sum(df_clv['total_transactions']) / df_clv.shape[0]\n",
    "calculated['Frequentie aankoop'] = purchase_frequency\n",
    "print(purchase_frequency)"
   ]
  },
  {
   "cell_type": "code",
   "execution_count": null,
   "metadata": {},
   "outputs": [],
   "source": [
    "# Calculate how often someone returns\n",
    "# Output * 100 is the rate in %\n",
    "\n",
    "repeat_rate = df_clv[df_clv.total_transactions > 1].shape[0] / df_clv.shape[0] \n",
    "calculated['Repeat rate'] = repeat_rate\n",
    "print(repeat_rate)"
   ]
  },
  {
   "cell_type": "code",
   "execution_count": null,
   "metadata": {},
   "outputs": [],
   "source": [
    "# Calculate the churnrate: what % doesn't return after 1 order\n",
    "\n",
    "churn_rate = 1 - repeat_rate\n",
    "calculated['Churn rate'] = churn_rate\n",
    "print(churn_rate)"
   ]
  },
  {
   "cell_type": "code",
   "execution_count": null,
   "metadata": {},
   "outputs": [],
   "source": [
    "# Calculating the average margin of the dataset\n",
    "# To do: choose the right columns from the dataset\n",
    "\n",
    "profit = sum(df['TurnoverLead']) - sum(df['BuyinLead'])\n",
    "calculated['Profit'] = profit\n",
    "margin = profit / sum(df['TurnoverLead'])\n",
    "calculated['Margin'] = margin\n",
    "absolut_margin = profit * margin\n",
    "calculated['Absolut margin'] = absolut_margin\n",
    "    \n",
    "print(profit)    \n",
    "print(margin)\n",
    "print(absolut_margin)"
   ]
  },
  {
   "cell_type": "code",
   "execution_count": null,
   "metadata": {},
   "outputs": [],
   "source": [
    "# Calculating the total CLV and the CLV with margin\n",
    "# If you cannot calculate the margin (as is done in the above cell) you can change margin into the margin number that the company provides you with\n",
    "\n",
    "total_clv = (avg_order_value * purchase_frequency) / churn_rate \n",
    "calculated['CLV'] = total_clv\n",
    "total_clv_margin = total_clv * margin\n",
    "calculated['CLV marge'] = total_clv_margin\n",
    "\n",
    "print(total_clv) # het eerste getal is de totale clv\n",
    "print(total_clv_margin) # het tweede getal is de clv waarbij rekening is gehouden met de berekende marge"
   ]
  },
  {
   "cell_type": "code",
   "execution_count": null,
   "metadata": {},
   "outputs": [],
   "source": [
    "# In this cell the above numbers are set into a dataset (which is necessary to use them in datastudio)\n",
    "df_clv_values = pd.DataFrame([calculated], index=['Waarde'])\n",
    "df_clv_values.head()"
   ]
  },
  {
   "cell_type": "code",
   "execution_count": null,
   "metadata": {},
   "outputs": [],
   "source": [
    "# Export to CSV file\n",
    "df_clv_values.to_csv(f'{path_outgoing}{client} - CLV_waardes.csv')\n",
    "# Export to Excel-file use:\n",
    "# df_clv_values.to_excel(f'{path_outgoing}{client} - CLV_waardes.xlsx')"
   ]
  },
  {
   "cell_type": "markdown",
   "metadata": {},
   "source": [
    "   # Churn rate per month"
   ]
  },
  {
   "cell_type": "code",
   "execution_count": null,
   "metadata": {},
   "outputs": [],
   "source": [
    "# Grouping data per month to calculate the churn rate per month\n",
    "df_monthly = df.pivot_table(\n",
    "    index=['email'],\n",
    "    columns=pd.Grouper(key='Orderdate', freq='M'),\n",
    "    values='OrderID', \n",
    "    aggfunc='count',\n",
    "    fill_value=0\n",
    ")\n",
    "\n",
    "df_monthly.head()"
   ]
  },
  {
   "cell_type": "code",
   "execution_count": null,
   "metadata": {},
   "outputs": [],
   "source": [
    "repeat_rate = df_monthly[df_monthly > 1].count() / df_monthly[df_monthly > 0].count()\n",
    "df_churn = repeat_rate.to_frame(name='repeat_rate')"
   ]
  },
  {
   "cell_type": "code",
   "execution_count": null,
   "metadata": {},
   "outputs": [],
   "source": [
    "df_churn['churn_rate'] = 1 - df_churn['repeat_rate']\n",
    "df_churn.head()\n"
   ]
  },
  {
   "cell_type": "markdown",
   "metadata": {},
   "source": [
    "# Churn per 6 months and per year"
   ]
  },
  {
   "cell_type": "code",
   "execution_count": null,
   "metadata": {},
   "outputs": [],
   "source": [
    "# Grouping data per 6 months to calculate the churn rate per 6 months\n",
    "df_6_months = df.pivot_table(\n",
    "    index=['email'],\n",
    "    columns=pd.Grouper(key='Orderdate', freq='6M'),\n",
    "    values='OrderID', \n",
    "    aggfunc='count',\n",
    "    fill_value=0\n",
    ")\n",
    "\n",
    "df_6_months.head()"
   ]
  },
  {
   "cell_type": "code",
   "execution_count": null,
   "metadata": {},
   "outputs": [],
   "source": [
    "repeat_rate = df_6_months[df_6_months > 1].count() / df_6_months[df_6_months > 0].count()\n",
    "df_churn_6_months = repeat_rate.to_frame(name='repeat_rate_6_months')"
   ]
  },
  {
   "cell_type": "code",
   "execution_count": null,
   "metadata": {},
   "outputs": [],
   "source": [
    "df_churn_6_months['churn_rate_6_months'] = 1 - df_churn_6_months['repeat_rate_6_months']\n",
    "df_churn_6_months"
   ]
  },
  {
   "cell_type": "code",
   "execution_count": null,
   "metadata": {},
   "outputs": [],
   "source": [
    "# Grouping the data per year to calculate the churn rate per year\n",
    "df_year = df.pivot_table(\n",
    "    index=['email'],\n",
    "    columns=pd.Grouper(key='Orderdate', freq='Y'),\n",
    "    values='OrderID', \n",
    "    aggfunc='count',\n",
    "    fill_value=0\n",
    ")\n",
    "\n",
    "df_year.head()"
   ]
  },
  {
   "cell_type": "code",
   "execution_count": null,
   "metadata": {},
   "outputs": [],
   "source": [
    "repeat_rate = df_year[df_year > 1].count() / df_year[df_year > 0].count()\n",
    "df_churn_year = repeat_rate.to_frame(name='repeat_rate_year')"
   ]
  },
  {
   "cell_type": "code",
   "execution_count": null,
   "metadata": {},
   "outputs": [],
   "source": [
    "df_churn_year['churn_rate_year'] = 1 - df_churn_year['repeat_rate_year']\n",
    "df_churn_year"
   ]
  },
  {
   "cell_type": "markdown",
   "metadata": {},
   "source": [
    "# Transactions, spend and unique customers per month"
   ]
  },
  {
   "cell_type": "code",
   "execution_count": null,
   "metadata": {},
   "outputs": [],
   "source": [
    "# Grouping total transactions, turnover and unique clients per month\n",
    "\n",
    "df_transacties = df.groupby(pd.Grouper(key='Orderdate', freq='M')).agg(\n",
    "    {\n",
    "        'OrderID': len, \n",
    "        'TurnoverLead': sum,\n",
    "        'email': pd.Series.nunique\n",
    "    }\n",
    ")\n",
    "\n",
    "df_transacties.head()"
   ]
  },
  {
   "cell_type": "code",
   "execution_count": null,
   "metadata": {},
   "outputs": [],
   "source": [
    "df_transacties.info()"
   ]
  },
  {
   "cell_type": "code",
   "execution_count": null,
   "metadata": {},
   "outputs": [],
   "source": [
    "# Renaming the columns\n",
    "df_transacties.columns = ['total_transactions', 'total_spent', 'total_unique_customers']\n",
    "df_transacties.head(5)"
   ]
  },
  {
   "cell_type": "code",
   "execution_count": null,
   "metadata": {},
   "outputs": [],
   "source": [
    "df_transacties.describe()"
   ]
  },
  {
   "cell_type": "code",
   "execution_count": null,
   "metadata": {},
   "outputs": [],
   "source": [
    "# Export to file\n",
    "# df_transacties.to_excel(f'{path_outgoing}{client} - Overzicht_per_maand.xlsx')\n",
    "df_transacties.to_csv(f'{path_outgoing}{client} - Overzicht_per_maand.csv')"
   ]
  },
  {
   "cell_type": "markdown",
   "metadata": {},
   "source": [
    "# Calculate CLV per month with churn per month"
   ]
  },
  {
   "cell_type": "code",
   "execution_count": null,
   "metadata": {},
   "outputs": [],
   "source": [
    "# Calculating the CLV per month\n",
    "df_transacties['purchase_frequency_month'] = df_transacties['total_transactions'] / df_transacties['total_unique_customers']\n",
    "df_transacties['avg_order_value_month'] = df_transacties['total_spent'] / df_transacties['total_transactions'] \n",
    "df_transacties['CLV'] = (df_transacties['avg_order_value_month'] * df_transacties['purchase_frequency_month']) / df_churn['churn_rate']\n",
    "df_transacties['CLV_margin'] = df_transacties['CLV'] * margin\n",
    "df_transacties.head()"
   ]
  },
  {
   "cell_type": "code",
   "execution_count": null,
   "metadata": {},
   "outputs": [],
   "source": [
    "# New dataset to calculate the aggregated average CLV\n",
    "# Drop empty columns\n",
    "# Add index column to calculate the aggregated average CLV\n",
    "df_clv_cum= df_transacties[['CLV', 'CLV_margin']].copy()\n",
    "df_clv_cum.dropna(inplace=True)\n",
    "df_clv_cum['Index'] = np.arange(1, len(df_clv_cum) + 1)\n",
    "df_clv_cum['CLV_AVG'] = df_clv_cum['CLV'].cumsum().div(df_clv_cum['Index'])\n",
    "df_clv_cum['CLV_margin_AVG'] = df_clv_cum['CLV_margin'].cumsum().div(df_clv_cum['Index'])\n",
    "df_clv_cum.head()"
   ]
  },
  {
   "cell_type": "markdown",
   "metadata": {},
   "source": [
    "# Calculate CLV per month with churn per 6 months"
   ]
  },
  {
   "cell_type": "code",
   "execution_count": null,
   "metadata": {},
   "outputs": [],
   "source": [
    "# Code used to find the churn that connects to the right months\n",
    "def find_churn_rate_6_months(date):\n",
    "    \"\"\"\n",
    "    Iterate through the 'df_churn_6_months' dataframe.\n",
    "    When the date is smaller than the date on the index, \n",
    "    return the corresponding churn rate \n",
    "    Eg: July < Oct, so return October's churn rate\n",
    "    \"\"\"\n",
    "    for m in df_churn_6_months['churn_rate_6_months'].iteritems():\n",
    "        if date <= m[0]:\n",
    "            return m[1]\n",
    "        \n",
    "def find_churn_rate_1_year(date):\n",
    "    \"\"\"\n",
    "    Iterate through the 'df_churn_year' dataframe.\n",
    "    When the date is smaller than the year on the index, \n",
    "    return the corresponding churn rate \n",
    "    \"\"\"\n",
    "    for y in df_churn_year['churn_rate_year'].iteritems():\n",
    "        if date <= y[0]:\n",
    "            return y[1]"
   ]
  },
  {
   "cell_type": "code",
   "execution_count": null,
   "metadata": {
    "scrolled": true
   },
   "outputs": [],
   "source": [
    "# Calculate CLV with Churn per 6 months\n",
    "# First line of code is used to find the right churn for the corresponding months\n",
    "df_transacties['churn_rate_6_months'] = df_transacties.index.to_series().apply(lambda x: find_churn_rate_6_months(x))\n",
    "df_transacties['CLV_churn_6M'] = (df_transacties['avg_order_value_month'] * df_transacties['purchase_frequency_month']) / df_transacties['churn_rate_6_months']\n",
    "df_transacties['CLV_margin_churn_6M'] = df_transacties['CLV_churn_6M'] * margin\n",
    "df_transacties.head(10)"
   ]
  },
  {
   "cell_type": "markdown",
   "metadata": {},
   "source": [
    "# Calculate CLV per month with churn per year"
   ]
  },
  {
   "cell_type": "code",
   "execution_count": null,
   "metadata": {
    "scrolled": false
   },
   "outputs": [],
   "source": [
    "# Calculate CLV with churn per year\n",
    "df_transacties['churn_rate_1_year'] = df_transacties.index.to_series().apply(lambda x: find_churn_rate_1_year(x))\n",
    "df_transacties['CLV_churn_Y'] = (df_transacties['avg_order_value_month'] * df_transacties['purchase_frequency_month']) / df_transacties['churn_rate_1_year']\n",
    "df_transacties['CLV_margin_churn_Y'] = df_transacties['CLV_churn_Y'] * margin\n",
    "df_transacties.head(10)"
   ]
  },
  {
   "cell_type": "markdown",
   "metadata": {},
   "source": [
    "# Aggregated average CLV"
   ]
  },
  {
   "cell_type": "code",
   "execution_count": null,
   "metadata": {},
   "outputs": [],
   "source": [
    "# Calculate aggregated average CLV with churn of 6 months and add to dataset\n",
    "df_clv_cum_6M = df_transacties[['CLV_churn_6M', 'CLV_margin_churn_6M']].copy()\n",
    "df_clv_cum_6M.dropna(inplace=True)\n",
    "df_clv_cum['CLV_AVG_6M'] = df_clv_cum_6M['CLV_churn_6M'].cumsum().div(df_clv_cum['Index'])\n",
    "df_clv_cum['CLV_margin_AVG_6M'] = df_clv_cum_6M['CLV_margin_churn_6M'].cumsum().div(df_clv_cum['Index'])\n",
    "df_clv_cum.head()"
   ]
  },
  {
   "cell_type": "code",
   "execution_count": null,
   "metadata": {},
   "outputs": [],
   "source": [
    "# Calculate aggregated average CLV with churn of a year and add to dataset\n",
    "df_clv_cum_Y = df_transacties[['CLV_churn_Y', 'CLV_margin_churn_Y']].copy()\n",
    "df_clv_cum_Y.dropna(inplace=True)\n",
    "df_clv_cum['CLV_AVG_Y'] = df_clv_cum_Y['CLV_churn_Y'].cumsum().div(df_clv_cum['Index'])\n",
    "df_clv_cum['CLV_margin_AVG_Y'] = df_clv_cum_Y['CLV_margin_churn_Y'].cumsum().div(df_clv_cum['Index'])\n",
    "df_clv_cum.head()"
   ]
  },
  {
   "cell_type": "code",
   "execution_count": null,
   "metadata": {},
   "outputs": [],
   "source": [
    "# Keep dataset with all the values\n",
    "# CLV_AVG is churn calculated per month, 6M churn is churn over 6 months, Y is churn calculated over a year\n",
    "df_clv_avg = df_clv_cum[['CLV_AVG', 'CLV_margin_AVG', 'CLV_AVG_6M', 'CLV_margin_AVG_6M', 'CLV_AVG_Y', 'CLV_margin_AVG_Y']].copy()\n",
    "df_clv_avg.head(10)"
   ]
  },
  {
   "cell_type": "code",
   "execution_count": null,
   "metadata": {},
   "outputs": [],
   "source": [
    "# Export to file\n",
    "# df_clv_avg.to_excel(f'{path_outgoing}{client} - Gemiddeldes CLV per maand.xlsx')\n",
    "df_clv_avg.to_csv(f'{path_outgoing}{client} - Gemiddeldes CLV per maand.csv')"
   ]
  }
 ],
 "metadata": {
  "kernelspec": {
   "display_name": "Python 3",
   "language": "python",
   "name": "python3"
  },
  "language_info": {
   "codemirror_mode": {
    "name": "ipython",
    "version": 3
   },
   "file_extension": ".py",
   "mimetype": "text/x-python",
   "name": "python",
   "nbconvert_exporter": "python",
   "pygments_lexer": "ipython3",
   "version": "3.7.4"
  },
  "toc": {
   "base_numbering": 1,
   "nav_menu": {},
   "number_sections": true,
   "sideBar": true,
   "skip_h1_title": false,
   "title_cell": "Table of Contents",
   "title_sidebar": "Contents",
   "toc_cell": false,
   "toc_position": {},
   "toc_section_display": true,
   "toc_window_display": false
  },
  "varInspector": {
   "cols": {
    "lenName": 16,
    "lenType": 16,
    "lenVar": 40
   },
   "kernels_config": {
    "python": {
     "delete_cmd_postfix": "",
     "delete_cmd_prefix": "del ",
     "library": "var_list.py",
     "varRefreshCmd": "print(var_dic_list())"
    },
    "r": {
     "delete_cmd_postfix": ") ",
     "delete_cmd_prefix": "rm(",
     "library": "var_list.r",
     "varRefreshCmd": "cat(var_dic_list()) "
    }
   },
   "types_to_exclude": [
    "module",
    "function",
    "builtin_function_or_method",
    "instance",
    "_Feature"
   ],
   "window_display": false
  }
 },
 "nbformat": 4,
 "nbformat_minor": 2
}
