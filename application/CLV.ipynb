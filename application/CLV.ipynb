{
 "cells": [
  {
   "cell_type": "markdown",
   "metadata": {},
   "source": [
    "# How to use this code?\n",
    "\n",
    "1. Make a copy of the code. Make sure you save it in the same folder\n",
    "2. Save your clients file in the incoming folder\n",
    "3. Edit the code where necessary. See comment lines before the code to check where you have to change the code"
   ]
  },
  {
   "cell_type": "markdown",
   "metadata": {},
   "source": [
    "# Choose file to process"
   ]
  },
  {
   "cell_type": "code",
   "execution_count": null,
   "metadata": {},
   "outputs": [],
   "source": [
    "# Please enter the name of the file after executing this cell (leave empty for test data)\n",
    "filename = input('Filename of file in /incoming/ folder: ')\n",
    "client = input('Client\\'s name: ')\n",
    "client = client if client else 'Test'"
   ]
  },
  {
   "cell_type": "markdown",
   "metadata": {},
   "source": [
    "# Import needed libraries"
   ]
  },
  {
   "cell_type": "code",
   "execution_count": null,
   "metadata": {},
   "outputs": [],
   "source": [
    "from datetime import datetime\n",
    "from pathlib import Path\n",
    "import helpers  # custom helper functions\n",
    "import numpy as np\n",
    "import pandas as pd\n",
    "import pandas.api.types as ptypes\n",
    "\n",
    "assert pd.__version__ > '0.24.9'   # Need Pandas version 0.25.0 or higher"
   ]
  },
  {
   "cell_type": "markdown",
   "metadata": {},
   "source": [
    "# Import file and filter data"
   ]
  },
  {
   "cell_type": "code",
   "execution_count": null,
   "metadata": {},
   "outputs": [],
   "source": [
    "# Building the full path to the file\n",
    "path = Path().absolute().parent  # each '.parent' goes one level up - vary as required\n",
    "if filename:\n",
    "    file = f'{path}/incoming/{filename}'\n",
    "else:\n",
    "    file = f'{path}/samples/sample-dataset.csv'\n",
    "\n",
    "# Path for outgoing files\n",
    "path_outgoing = f'{path}/outgoing/'\n",
    "\n",
    "print('Processing: ', file)\n",
    "print('For client: ', client)"
   ]
  },
  {
   "cell_type": "code",
   "execution_count": null,
   "metadata": {},
   "outputs": [],
   "source": [
    "# File import\n",
    "# To do: choose the right columns from the dataset\n",
    "# for excel: data = pd.read_excel(file) \n",
    "# df = pd.DataFrame(data, columns = [''])\n",
    "\n",
    "df = pd.read_csv(file, sep = None, delimiter = None, usecols = ['email','Orderdate','OrderID','TurnoverLead', 'BuyinLead', 'LeadPhase','LeadStatus'], engine = 'python') \n",
    "df.head()"
   ]
  },
  {
   "cell_type": "code",
   "execution_count": null,
   "metadata": {
    "scrolled": true
   },
   "outputs": [],
   "source": [
    "df.info()"
   ]
  },
  {
   "cell_type": "code",
   "execution_count": null,
   "metadata": {},
   "outputs": [],
   "source": [
    "# Delete empty rows'NaT'\n",
    "# Check email contains @ \n",
    "# Delete duplicates in orderID\n",
    "\n",
    "df = df.dropna(axis=0, how='any')\n",
    "df = df[df['email'].str.contains('@')]\n",
    "df = df.drop_duplicates('OrderID', keep='first')\n",
    "df.head()"
   ]
  },
  {
   "cell_type": "code",
   "execution_count": null,
   "metadata": {},
   "outputs": [],
   "source": [
    "# Find out the date format with the helper function\n",
    "date = df['Orderdate'].loc[df['Orderdate'].first_valid_index()]  # first occurence\n",
    "date_format = helpers.date_format(date)\n",
    "\n",
    "# Orderdate to datetime. Vul juiste date format in\n",
    "df['Orderdate'] = pd.to_datetime(df['Orderdate'], format=date_format)"
   ]
  },
  {
   "cell_type": "code",
   "execution_count": null,
   "metadata": {
    "scrolled": true
   },
   "outputs": [],
   "source": [
    "df.info()"
   ]
  },
  {
   "cell_type": "code",
   "execution_count": null,
   "metadata": {},
   "outputs": [],
   "source": [
    "df.describe()"
   ]
  },
  {
   "cell_type": "code",
   "execution_count": null,
   "metadata": {},
   "outputs": [],
   "source": [
    "# Filtering the data (these rules are specific for Maxilia -> delete if not necessary or change to needed values)\n",
    "# Leadphase = order\n",
    "# Leadstatus = gefactureerd\n",
    "df = df[df['LeadPhase'].str.contains('Order')]\n",
    "df = df[df['LeadStatus'].str.contains('Gefactureerd')]\n",
    "df.head()"
   ]
  },
  {
   "cell_type": "code",
   "execution_count": null,
   "metadata": {},
   "outputs": [],
   "source": [
    "df.info()"
   ]
  },
  {
   "cell_type": "code",
   "execution_count": null,
   "metadata": {},
   "outputs": [],
   "source": [
    "# Check if the data equals certain conditions\n",
    "assert ptypes.is_datetime64_any_dtype(df['Orderdate'])\n",
    "assert df['email'].str.contains('@').all()\n",
    "assert df['LeadPhase'].eq('Order').all()\n",
    "assert df['LeadStatus'].eq('Gefactureerd').all()"
   ]
  },
  {
   "cell_type": "markdown",
   "metadata": {},
   "source": [
    "# Group data per customer"
   ]
  },
  {
   "cell_type": "code",
   "execution_count": null,
   "metadata": {},
   "outputs": [],
   "source": [
    "# Here the data is being grouped by email. \n",
    "# To do: change the variables into the right column names of the data set\n",
    "\n",
    "# The first and last transaction are taken to calculate how many days someone is a customer\n",
    "# The number of orders (how many OrderID's per customer) per customer is calculated\n",
    "# The sum of all spend is calculated\n",
    "\n",
    "df_clv = df.groupby('email').agg(\n",
    "    first_transaction=('Orderdate', min),\n",
    "    last_transaction=('Orderdate', max),\n",
    "    total_transactions=('OrderID', len), \n",
    "    total_spent=('TurnoverLead', sum)\n",
    ") \n",
    "df_clv['days_customer'] = (df_clv['last_transaction'] - df_clv['first_transaction']).dt.days\n",
    "df_clv.drop(['first_transaction', 'last_transaction'], axis=1, inplace=True)\n",
    "df_clv.head()"
   ]
  },
  {
   "cell_type": "code",
   "execution_count": null,
   "metadata": {},
   "outputs": [],
   "source": [
    "df_clv.columns = ['days_customer', 'total_transactions', 'total_spent']\n",
    "df_clv.head()"
   ]
  },
  {
   "cell_type": "code",
   "execution_count": null,
   "metadata": {},
   "outputs": [],
   "source": [
    "df_clv.describe()"
   ]
  },
  {
   "cell_type": "code",
   "execution_count": null,
   "metadata": {},
   "outputs": [],
   "source": [
    "# Export to file\n",
    "# df_clv.to_excel(f'{path_outgoing}{client} - Overzicht_per_klant.xlsx')\n",
    "df_clv.to_csv(f'{path_outgoing}{client} - Overzicht_per_klant.csv')"
   ]
  },
  {
   "cell_type": "markdown",
   "metadata": {},
   "source": [
    "# Calculating the total CLV"
   ]
  },
  {
   "cell_type": "code",
   "execution_count": null,
   "metadata": {},
   "outputs": [],
   "source": [
    "# Initiate a dictionary that holds all calculated values\n",
    "calculated = {}"
   ]
  },
  {
   "cell_type": "code",
   "execution_count": null,
   "metadata": {},
   "outputs": [],
   "source": [
    "# Calculate the average order value\n",
    "\n",
    "avg_order_value = sum(df_clv['total_spent']) / sum(df_clv['total_transactions'])\n",
    "calculated['Gemiddelde orderwaarde'] = avg_order_value\n",
    "print(avg_order_value)"
   ]
  },
  {
   "cell_type": "code",
   "execution_count": null,
   "metadata": {},
   "outputs": [],
   "source": [
    "# Calculate how often someone buys from the company\n",
    "\n",
    "purchase_frequency = sum(df_clv['total_transactions']) / df_clv.shape[0]\n",
    "calculated['Frequentie aankoop'] = purchase_frequency\n",
    "print(purchase_frequency)"
   ]
  },
  {
   "cell_type": "code",
   "execution_count": null,
   "metadata": {},
   "outputs": [],
   "source": [
    "# Calculate how often someone returns\n",
    "# Output * 100 is the rate in %\n",
    "\n",
    "repeat_rate = df_clv[df_clv.total_transactions > 1].shape[0] / df_clv.shape[0] \n",
    "calculated['Churn rate'] = repeat_rate\n",
    "print(repeat_rate)"
   ]
  },
  {
   "cell_type": "code",
   "execution_count": null,
   "metadata": {},
   "outputs": [],
   "source": [
    "# Calculate the churnrate: what % doesn't return after 1 order\n",
    "\n",
    "churn_rate = 1 - repeat_rate\n",
    "print(churn_rate)"
   ]
  },
  {
   "cell_type": "code",
   "execution_count": null,
   "metadata": {},
   "outputs": [],
   "source": [
    "# Calculating the average margin of the dataset\n",
    "# To do: choose the right columns from the dataset\n",
    "\n",
    "profit = sum(df['TurnoverLead']) - sum(df['BuyinLead'])\n",
    "margin = profit / sum(df['TurnoverLead'])\n",
    "absolut_margin = profit * margin\n",
    "    \n",
    "print(profit)    \n",
    "print(margin)\n",
    "print(absolut_margin)"
   ]
  },
  {
   "cell_type": "code",
   "execution_count": null,
   "metadata": {},
   "outputs": [],
   "source": [
    "# Calculating the total CLV and the CLV with margin\n",
    "# If you cannot calculate the margin (as is done in the above cell) you can change margin into the margin number that the company provides you with\n",
    "\n",
    "total_clv = (avg_order_value * purchase_frequency) / churn_rate \n",
    "calculated['CLV'] = total_clv\n",
    "total_clv_margin = total_clv * margin\n",
    "calculated['CLV marge'] = total_clv_margin\n",
    "\n",
    "print(total_clv) # het eerste getal is de totale clv\n",
    "print(total_clv_margin) # het tweede getal is de clv waarbij rekening is gehouden met de berekende marge"
   ]
  },
  {
   "cell_type": "code",
   "execution_count": null,
   "metadata": {},
   "outputs": [],
   "source": [
    "# In this cell the above numbers are set into a dataset (which is necessary to use them in datastudio)\n",
    "df_clv_values = pd.DataFrame([calculated], index=['Waarde'])\n",
    "df_clv_values.head()"
   ]
  },
  {
   "cell_type": "code",
   "execution_count": null,
   "metadata": {},
   "outputs": [],
   "source": [
    "# Export to file\n",
    "# df_clv_values.to_excel(f'{path_outgoing}{client} - CLV_waardes.xlsx')\n",
    "df_clv_values.to_csv(f'{path_outgoing}{client} - CLV_waardes.csv')"
   ]
  },
  {
   "cell_type": "markdown",
   "metadata": {},
   "source": [
    "   # Churn rate per month"
   ]
  },
  {
   "cell_type": "code",
   "execution_count": null,
   "metadata": {},
   "outputs": [],
   "source": [
    "# Grouping data per month to calculate the churn rate per month\n",
    "df_monthly = df.pivot_table(\n",
    "    index=['email'],\n",
    "    columns=pd.Grouper(key='Orderdate', freq='M'),\n",
    "    values='OrderID', \n",
    "    aggfunc='count',\n",
    "    fill_value=0\n",
    ")\n",
    "\n",
    "df_monthly.head()"
   ]
  },
  {
   "cell_type": "code",
   "execution_count": null,
   "metadata": {},
   "outputs": [],
   "source": [
    "repeat_rate = df_monthly[df_monthly > 1].count() / df_monthly[df_monthly > 0].count()\n",
    "df_churn = repeat_rate.to_frame(name='repeat_rate')"
   ]
  },
  {
   "cell_type": "code",
   "execution_count": null,
   "metadata": {},
   "outputs": [],
   "source": [
    "df_churn['churn_rate'] = 1 - df_churn['repeat_rate']\n",
    "df_churn.head()\n"
   ]
  },
  {
   "cell_type": "markdown",
   "metadata": {},
   "source": [
    "# Churn per 6 months and per year"
   ]
  },
  {
   "cell_type": "code",
   "execution_count": null,
   "metadata": {},
   "outputs": [],
   "source": [
    "# Grouping data per 6 months to calculate the churn rate per 6 months\n",
    "df_6_months = df.pivot_table(\n",
    "    index=['email'],\n",
    "    columns=pd.Grouper(key='Orderdate', freq='6M'),\n",
    "    values='OrderID', \n",
    "    aggfunc='count',\n",
    "    fill_value=0\n",
    ")\n",
    "\n",
    "df_6_months.head()"
   ]
  },
  {
   "cell_type": "code",
   "execution_count": null,
   "metadata": {},
   "outputs": [],
   "source": [
    "repeat_rate = df_6_months[df_6_months > 1].count() / df_6_months[df_6_months > 0].count()\n",
    "df_churn_6_months = repeat_rate.to_frame(name='repeat_rate_6_months')"
   ]
  },
  {
   "cell_type": "code",
   "execution_count": null,
   "metadata": {},
   "outputs": [],
   "source": [
    "df_churn_6_months['churn_rate_6_months'] = 1 - df_churn_6_months['repeat_rate_6_months']\n",
    "df_churn_6_months"
   ]
  },
  {
   "cell_type": "code",
   "execution_count": null,
   "metadata": {},
   "outputs": [],
   "source": [
    "# Grouping the data per year to calculate the churn rate per year\n",
    "df_year = df.pivot_table(\n",
    "    index=['email'],\n",
    "    columns=pd.Grouper(key='Orderdate', freq='Y'),\n",
    "    values='OrderID', \n",
    "    aggfunc='count',\n",
    "    fill_value=0\n",
    ")\n",
    "\n",
    "df_year.head()"
   ]
  },
  {
   "cell_type": "code",
   "execution_count": null,
   "metadata": {},
   "outputs": [],
   "source": [
    "repeat_rate = df_year[df_year > 1].count() / df_year[df_year > 0].count()\n",
    "df_churn_year = repeat_rate.to_frame(name='repeat_rate_year')"
   ]
  },
  {
   "cell_type": "code",
   "execution_count": null,
   "metadata": {},
   "outputs": [],
   "source": [
    "df_churn_year['churn_rate_year'] = 1 - df_churn_year['repeat_rate_year']\n",
    "df_churn_year"
   ]
  },
  {
   "cell_type": "markdown",
   "metadata": {},
   "source": [
    "# Transactions, spend and unique customers per month"
   ]
  },
  {
   "cell_type": "code",
   "execution_count": null,
   "metadata": {},
   "outputs": [],
   "source": [
    "# Grouping total transactions, turnover and unique clients per month\n",
    "\n",
    "df_transacties = df.groupby(pd.Grouper(key='Orderdate', freq='M')).agg(\n",
    "    {\n",
    "        'OrderID': len, \n",
    "        'TurnoverLead': sum,\n",
    "        'email': pd.Series.nunique\n",
    "    }\n",
    ")\n",
    "\n",
    "df_transacties.head()"
   ]
  },
  {
   "cell_type": "code",
   "execution_count": null,
   "metadata": {},
   "outputs": [],
   "source": [
    "df_transacties.info()"
   ]
  },
  {
   "cell_type": "code",
   "execution_count": null,
   "metadata": {},
   "outputs": [],
   "source": [
    "# Renaming the columns\n",
    "df_transacties.columns = ['total_transactions', 'total_spent', 'total_unique_customers']\n",
    "df_transacties.head(5)"
   ]
  },
  {
   "cell_type": "code",
   "execution_count": null,
   "metadata": {},
   "outputs": [],
   "source": [
    "df_transacties.describe()"
   ]
  },
  {
   "cell_type": "code",
   "execution_count": null,
   "metadata": {},
   "outputs": [],
   "source": [
    "# Export to file\n",
    "# df_transacties.to_excel(f'{path_outgoing}{client} - Overzicht_per_maand.xlsx')\n",
    "df_transacties.to_csv(f'{path_outgoing}{client} - Overzicht_per_maand.csv')"
   ]
  },
  {
   "cell_type": "markdown",
   "metadata": {},
   "source": [
    "# Calculate CLV per month with churn per month"
   ]
  },
  {
   "cell_type": "code",
   "execution_count": null,
   "metadata": {},
   "outputs": [],
   "source": [
    "# Calculating the CLV per month\n",
    "df_transacties['purchase_frequency_month'] = df_transacties['total_transactions'] / df_transacties['total_unique_customers']\n",
    "df_transacties['avg_order_value_month'] = df_transacties['total_spent'] / df_transacties['total_transactions'] \n",
    "df_transacties['CLV'] = (df_transacties['avg_order_value_month'] * df_transacties['purchase_frequency_month']) / df_churn['churn_rate']\n",
    "df_transacties['CLV_margin'] = df_transacties['CLV'] * margin\n",
    "df_transacties.head()"
   ]
  },
  {
   "cell_type": "code",
   "execution_count": null,
   "metadata": {},
   "outputs": [],
   "source": [
    "# New dataset to calculate the aggregated average CLV\n",
    "# Drop empty columns\n",
    "# Add index column to calculate the aggregated average CLV\n",
    "df_clv_cum= df_transacties[['CLV', 'CLV_margin']].copy()\n",
    "df_clv_cum.dropna(inplace=True)\n",
    "df_clv_cum['Index'] = np.arange(1, len(df_clv_cum) + 1)\n",
    "df_clv_cum['CLV_AVG'] = df_clv_cum['CLV'].cumsum().div(df_clv_cum['Index'])\n",
    "df_clv_cum['CLV_margin_AVG'] = df_clv_cum['CLV_margin'].cumsum().div(df_clv_cum['Index'])\n",
    "df_clv_cum.head()"
   ]
  },
  {
   "cell_type": "markdown",
   "metadata": {},
   "source": [
    "# Calculate CLV per month with churn per 6 months"
   ]
  },
  {
   "cell_type": "code",
   "execution_count": null,
   "metadata": {},
   "outputs": [],
   "source": [
    "# Code used to find the churn that connects to the right months\n",
    "def find_churn_rate_6_months(date):\n",
    "    \"\"\"\n",
    "    Iterate through the 'df_churn_6_months' dataframe.\n",
    "    When the date is smaller than the date on the index, \n",
    "    return the corresponding churn rate \n",
    "    Eg: July < Oct, so return October's churn rate\n",
    "    \"\"\"\n",
    "    for m in df_churn_6_months['churn_rate_6_months'].iteritems():\n",
    "        if date <= m[0]:\n",
    "            return m[1]\n",
    "        \n",
    "def find_churn_rate_1_year(date):\n",
    "    \"\"\"\n",
    "    Iterate through the 'df_churn_year' dataframe.\n",
    "    When the date is smaller than the year on the index, \n",
    "    return the corresponding churn rate \n",
    "    \"\"\"\n",
    "    for y in df_churn_year['churn_rate_year'].iteritems():\n",
    "        if date <= y[0]:\n",
    "            return y[1]"
   ]
  },
  {
   "cell_type": "code",
   "execution_count": null,
   "metadata": {
    "scrolled": true
   },
   "outputs": [],
   "source": [
    "# Calculate CLV with Churn per 6 months\n",
    "# First line of code is used to find the right churn for the corresponding months\n",
    "df_transacties['churn_rate_6_months'] = df_transacties.index.to_series().apply(lambda x: find_churn_rate_6_months(x))\n",
    "df_transacties['CLV_churn_6M'] = (df_transacties['avg_order_value_month'] * df_transacties['purchase_frequency_month']) / df_transacties['churn_rate_6_months']\n",
    "df_transacties['CLV_margin_churn_6M'] = df_transacties['CLV_churn_6M'] * margin\n",
    "df_transacties.head(10)"
   ]
  },
  {
   "cell_type": "markdown",
   "metadata": {},
   "source": [
    "# Calculate CLV per month with churn per year"
   ]
  },
  {
   "cell_type": "code",
   "execution_count": null,
   "metadata": {
    "scrolled": false
   },
   "outputs": [],
   "source": [
    "# Calculate CLV with churn per year\n",
    "df_transacties['churn_rate_1_year'] = df_transacties.index.to_series().apply(lambda x: find_churn_rate_1_year(x))\n",
    "df_transacties['CLV_churn_Y'] = (df_transacties['avg_order_value_month'] * df_transacties['purchase_frequency_month']) / df_transacties['churn_rate_1_year']\n",
    "df_transacties['CLV_margin_churn_Y'] = df_transacties['CLV_churn_Y'] * margin\n",
    "df_transacties.head(10)"
   ]
  },
  {
   "cell_type": "markdown",
   "metadata": {},
   "source": [
    "# Aggregated average CLV"
   ]
  },
  {
   "cell_type": "code",
   "execution_count": null,
   "metadata": {},
   "outputs": [],
   "source": [
    "# Calculate aggregated average CLV with churn of 6 months and add to dataset\n",
    "df_clv_cum_6M = df_transacties[['CLV_churn_6M', 'CLV_margin_churn_6M']].copy()\n",
    "df_clv_cum_6M.dropna(inplace=True)\n",
    "df_clv_cum['CLV_AVG_6M'] = df_clv_cum_6M['CLV_churn_6M'].cumsum().div(df_clv_cum['Index'])\n",
    "df_clv_cum['CLV_margin_AVG_6M'] = df_clv_cum_6M['CLV_margin_churn_6M'].cumsum().div(df_clv_cum['Index'])\n",
    "df_clv_cum.head()"
   ]
  },
  {
   "cell_type": "code",
   "execution_count": null,
   "metadata": {},
   "outputs": [],
   "source": [
    "# Calculate aggregated average CLV with churn of a year and add to dataset\n",
    "df_clv_cum_Y = df_transacties[['CLV_churn_Y', 'CLV_margin_churn_Y']].copy()\n",
    "df_clv_cum_Y.dropna(inplace=True)\n",
    "df_clv_cum['CLV_AVG_Y'] = df_clv_cum_Y['CLV_churn_Y'].cumsum().div(df_clv_cum['Index'])\n",
    "df_clv_cum['CLV_margin_AVG_Y'] = df_clv_cum_Y['CLV_margin_churn_Y'].cumsum().div(df_clv_cum['Index'])\n",
    "df_clv_cum.head()"
   ]
  },
  {
   "cell_type": "code",
   "execution_count": null,
   "metadata": {},
   "outputs": [],
   "source": [
    "# Keep dataset with all the values\n",
    "# CLV_AVG is churn calculated per month, 6M churn is churn over 6 months, Y is churn calculated over a year\n",
    "df_clv_avg = df_clv_cum[['CLV_AVG', 'CLV_margin_AVG', 'CLV_AVG_6M', 'CLV_margin_AVG_6M', 'CLV_AVG_Y', 'CLV_margin_AVG_Y']].copy()\n",
    "df_clv_avg.head(10)"
   ]
  },
  {
   "cell_type": "code",
   "execution_count": null,
   "metadata": {},
   "outputs": [],
   "source": [
    "# Export to file\n",
    "# df_clv_avg.to_excel(f'{path_outgoing}{client} - Gemiddeldes CLV per maand.xlsx')\n",
    "df_clv_avg.to_csv(f'{path_outgoing}{client} - Gemiddeldes CLV per maand.csv')"
   ]
  }
 ],
 "metadata": {
  "kernelspec": {
   "display_name": "Python 3",
   "language": "python",
   "name": "python3"
  },
  "language_info": {
   "codemirror_mode": {
    "name": "ipython",
    "version": 3
   },
   "file_extension": ".py",
   "mimetype": "text/x-python",
   "name": "python",
   "nbconvert_exporter": "python",
   "pygments_lexer": "ipython3",
   "version": "3.7.3"
  },
  "toc": {
   "base_numbering": 1,
   "nav_menu": {},
   "number_sections": true,
   "sideBar": true,
   "skip_h1_title": false,
   "title_cell": "Table of Contents",
   "title_sidebar": "Contents",
   "toc_cell": false,
   "toc_position": {},
   "toc_section_display": true,
   "toc_window_display": false
  },
  "varInspector": {
   "cols": {
    "lenName": 16,
    "lenType": 16,
    "lenVar": 40
   },
   "kernels_config": {
    "python": {
     "delete_cmd_postfix": "",
     "delete_cmd_prefix": "del ",
     "library": "var_list.py",
     "varRefreshCmd": "print(var_dic_list())"
    },
    "r": {
     "delete_cmd_postfix": ") ",
     "delete_cmd_prefix": "rm(",
     "library": "var_list.r",
     "varRefreshCmd": "cat(var_dic_list()) "
    }
   },
   "types_to_exclude": [
    "module",
    "function",
    "builtin_function_or_method",
    "instance",
    "_Feature"
   ],
   "window_display": false
  }
 },
 "nbformat": 4,
 "nbformat_minor": 2
}
