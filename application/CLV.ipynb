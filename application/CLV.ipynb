{
 "cells": [
  {
   "cell_type": "markdown",
   "metadata": {},
   "source": [
    "# Choose file to process"
   ]
  },
  {
   "cell_type": "code",
   "execution_count": null,
   "metadata": {},
   "outputs": [],
   "source": [
    "# Please enter the name of the file after executing this cell (leave empty for test data)\n",
    "filename = input('Filename of file in /incoming/: ')"
   ]
  },
  {
   "cell_type": "markdown",
   "metadata": {},
   "source": [
    "# Benodigde libraries importeren"
   ]
  },
  {
   "cell_type": "code",
   "execution_count": null,
   "metadata": {},
   "outputs": [],
   "source": [
    "from datetime import datetime\n",
    "from pathlib import Path\n",
    "import helpers  # custom helper functions\n",
    "import numpy as np\n",
    "import pandas as pd\n",
    "import pandas.api.types as ptypes"
   ]
  },
  {
   "cell_type": "markdown",
   "metadata": {},
   "source": [
    "# Bestand inladen en data filteren"
   ]
  },
  {
   "cell_type": "code",
   "execution_count": null,
   "metadata": {},
   "outputs": [],
   "source": [
    "# Building the full path to the file\n",
    "path = Path().absolute().parent  # each '.parent' goes one level up - vary as required\n",
    "if filename:\n",
    "    file = f'{path}/incoming/{filename}'\n",
    "else:\n",
    "    file = f'{path}/samples/sample-dataset.csv'\n",
    "\n",
    "# Path for outgoing files\n",
    "path_outgoing = f'{path}/outgoing/'\n",
    "\n",
    "print('Processing:', file)"
   ]
  },
  {
   "cell_type": "code",
   "execution_count": null,
   "metadata": {},
   "outputs": [],
   "source": [
    "# excel bestand maxilia geimporteerd en kolommen gefilterd \n",
    "# voeg comments in over instructies delimiter & hoe je een excel bestand kunt inladen\n",
    "\n",
    "df = pd.read_csv(file, sep = None, delimiter = None, usecols = ['email','Orderdate','OrderID','TurnoverLead', 'BuyinLead', 'LeadPhase','LeadStatus'], engine = 'python') \n",
    "df.head()"
   ]
  },
  {
   "cell_type": "code",
   "execution_count": null,
   "metadata": {},
   "outputs": [],
   "source": [
    "df.info()"
   ]
  },
  {
   "cell_type": "code",
   "execution_count": null,
   "metadata": {},
   "outputs": [],
   "source": [
    "# lege rijen 'NaT' eruit gefilterd \n",
    "# Email bevat @ controle\n",
    "# Duplicaten verwijderen in orderID\n",
    "\n",
    "df = df.dropna(axis=0, how = 'any', inplace=False)\n",
    "df = df[~df['email'].str.contains('@')==False]\n",
    "df = df.drop_duplicates('OrderID', keep='first')\n",
    "df.head()"
   ]
  },
  {
   "cell_type": "code",
   "execution_count": null,
   "metadata": {},
   "outputs": [],
   "source": [
    "date = df['Orderdate'].loc[df['Orderdate'].first_valid_index()]"
   ]
  },
  {
   "cell_type": "code",
   "execution_count": null,
   "metadata": {},
   "outputs": [],
   "source": [
    "# Find out the date format with the helper function\n",
    "date_format = helpers.date_format(date)\n",
    "\n",
    "# Orderdate to datetime. Vul juiste date format in\n",
    "df['Orderdate']=pd.to_datetime(df['Orderdate'], format=date_format)"
   ]
  },
  {
   "cell_type": "code",
   "execution_count": null,
   "metadata": {},
   "outputs": [],
   "source": [
    "df.info()"
   ]
  },
  {
   "cell_type": "code",
   "execution_count": null,
   "metadata": {},
   "outputs": [],
   "source": [
    "df.describe()"
   ]
  },
  {
   "cell_type": "code",
   "execution_count": null,
   "metadata": {},
   "outputs": [],
   "source": [
    "# Data filteren (specifiek voor Maxilia)\n",
    "# Leadphase = order\n",
    "# Leadstatus = gefactureerd\n",
    "df = df[~df['LeadPhase'].str.contains('Order')==False]\n",
    "df = df[~df['LeadStatus'].str.contains('Gefactureerd')==False]\n",
    "df.head()"
   ]
  },
  {
   "cell_type": "code",
   "execution_count": null,
   "metadata": {},
   "outputs": [],
   "source": [
    "df.info()"
   ]
  },
  {
   "cell_type": "code",
   "execution_count": null,
   "metadata": {},
   "outputs": [],
   "source": [
    "# Check data voldoet aan bepaalde condities\n",
    "assert ptypes.is_datetime64_any_dtype(df['Orderdate'])\n",
    "assert df['email'].str.contains('@').all()\n",
    "assert df['LeadPhase'].eq('Order').all()\n",
    "assert df['LeadStatus'].eq('Gefactureerd').all()\n"
   ]
  },
  {
   "cell_type": "markdown",
   "metadata": {},
   "source": [
    "# Data grouperen per klant"
   ]
  },
  {
   "cell_type": "code",
   "execution_count": null,
   "metadata": {},
   "outputs": [],
   "source": [
    "# group by email (customer)\n",
    "# hoeveel orders zijn er gedaan per customer\n",
    "# totale uitgaven per customer \n",
    "\n",
    "df_clv = df.groupby('email').agg({\n",
    "                                                        'Orderdate': lambda date: (date.max() - date.min()).days,\n",
    "                                                        'OrderID': lambda num: len(num), \n",
    "                                                        'TurnoverLead': lambda price: price.sum()\n",
    "                                                    }) \n",
    "df_clv.head()"
   ]
  },
  {
   "cell_type": "code",
   "execution_count": null,
   "metadata": {},
   "outputs": [],
   "source": [
    "# rename kolommen \n",
    "\n",
    "df_clv.columns = ['days_customer', 'total_transactions', 'total_spent']\n",
    "df_clv.head()"
   ]
  },
  {
   "cell_type": "code",
   "execution_count": null,
   "metadata": {},
   "outputs": [],
   "source": [
    "df_clv.describe()"
   ]
  },
  {
   "cell_type": "code",
   "execution_count": null,
   "metadata": {},
   "outputs": [],
   "source": [
    "df_clv.to_excel(path_outgoing + 'Overzicht_per_klant.xlsx')"
   ]
  },
  {
   "cell_type": "markdown",
   "metadata": {},
   "source": [
    "# Berekenen van de totale CLV"
   ]
  },
  {
   "cell_type": "code",
   "execution_count": null,
   "metadata": {},
   "outputs": [],
   "source": [
    "# gemiddelde order waarde \n",
    "\n",
    "avg_order_value = sum(df_clv['total_spent']) / sum(df_clv['total_transactions'])\n",
    "print(avg_order_value)"
   ]
  },
  {
   "cell_type": "code",
   "execution_count": null,
   "metadata": {},
   "outputs": [],
   "source": [
    "# hoe vaak koopt iemand gemiddeld iets\n",
    "\n",
    "purchase_frequency = sum(df_clv['total_transactions']) / df_clv.shape[0]\n",
    "print(purchase_frequency)"
   ]
  },
  {
   "cell_type": "code",
   "execution_count": null,
   "metadata": {},
   "outputs": [],
   "source": [
    "# hoe vaak komt iemand terug\n",
    "\n",
    "repeat_rate = df_clv[df_clv.total_transactions > 1].shape[0] / df_clv.shape[0] \n",
    "print(repeat_rate)"
   ]
  },
  {
   "cell_type": "code",
   "execution_count": null,
   "metadata": {},
   "outputs": [],
   "source": [
    "# churnrate: hoeveel % doet na 1 aankoop geen bestelling meer\n",
    "\n",
    "churn_rate = 1 - repeat_rate\n",
    "print(churn_rate)"
   ]
  },
  {
   "cell_type": "code",
   "execution_count": null,
   "metadata": {},
   "outputs": [],
   "source": [
    "# gemiddelde marge  \n",
    "\n",
    "profit = sum(df['TurnoverLead']) - sum(df['BuyinLead'])\n",
    "margin = profit / sum(df['TurnoverLead'])\n",
    "absolut_margin = profit * margin\n",
    "    \n",
    "print(profit)    \n",
    "print(margin)\n",
    "print(absolut_margin)"
   ]
  },
  {
   "cell_type": "code",
   "execution_count": null,
   "metadata": {},
   "outputs": [],
   "source": [
    "# totale clv & clv marge \n",
    "# in het blok hierboven is de marge berekend ('margin'), maar je kan ook een getal noteren ipv 'margin'\n",
    "\n",
    "total_clv = (avg_order_value * purchase_frequency) / churn_rate \n",
    "total_clv_margin = total_clv * margin\n",
    "\n",
    "print(total_clv) # het eerste getal is de totale clv\n",
    "print(total_clv_margin) # het tweede getal is de clv waarbij rekening is gehouden met de berekende marge"
   ]
  },
  {
   "cell_type": "code",
   "execution_count": null,
   "metadata": {},
   "outputs": [],
   "source": [
    "# Bovenstaande cijfers in kolom neerzetten zodat de data in datastudio kan worden gebruikt\n",
    "set_total_clv = avg_order_value, purchase_frequency, churn_rate, total_clv, total_clv_margin \n",
    "df_total_clv = pd.DataFrame(set_total_clv, columns= ['Waarde'], index = ['Gemiddelde orderwaarde' , 'Frequentie aankoop', 'Churn rate' , 'CLV', 'CLV marge'])\n",
    "df_clv_values=df_total_clv.T.groupby(level=0).agg(lambda x : x.values.tolist()).stack().apply(pd.Series).unstack().sort_index(level=1,axis=1)\n",
    "df_clv_values.columns=df_clv_values.columns.droplevel(level=0)\n",
    "df_clv_values.head()"
   ]
  },
  {
   "cell_type": "code",
   "execution_count": null,
   "metadata": {},
   "outputs": [],
   "source": [
    "df_clv_values.to_excel(path_outgoing + 'CLV_waardes.xlsx')"
   ]
  },
  {
   "cell_type": "markdown",
   "metadata": {},
   "source": [
    "   # Churn rate per maand uiteenzetten"
   ]
  },
  {
   "cell_type": "code",
   "execution_count": null,
   "metadata": {},
   "outputs": [],
   "source": [
    "# transacties per klant per maand uiteenzetten\n",
    "df_month = df.set_index('Orderdate')\n",
    "df_monthly = df_month.pivot_table(\n",
    "    index=['email'],\n",
    "    columns=pd.Grouper(freq='M'),\n",
    "    values='OrderID', \n",
    "    aggfunc='count',\n",
    "    fill_value=0\n",
    ")\n",
    "\n",
    "df_monthly.head()"
   ]
  },
  {
   "cell_type": "code",
   "execution_count": null,
   "metadata": {},
   "outputs": [],
   "source": [
    "repeat_rate = df_monthly[df_monthly > 1].count() / df_monthly[df_monthly > 0].count()\n",
    "df_churn = repeat_rate.to_frame(name='repeat_rate')"
   ]
  },
  {
   "cell_type": "code",
   "execution_count": null,
   "metadata": {},
   "outputs": [],
   "source": [
    "df_churn['churn_rate'] = 1 - df_churn['repeat_rate']\n",
    "df_churn.head()\n"
   ]
  },
  {
   "cell_type": "markdown",
   "metadata": {},
   "source": [
    "# Churn per 6 maanden en per jaar"
   ]
  },
  {
   "cell_type": "code",
   "execution_count": null,
   "metadata": {},
   "outputs": [],
   "source": [
    "# Churn per 6 maanden\n",
    "df_6_months = df_month.pivot_table(\n",
    "    index=['email'],\n",
    "    columns=pd.Grouper(freq='6M'),\n",
    "    values='OrderID', \n",
    "    aggfunc='count',\n",
    "    fill_value=0\n",
    ")\n",
    "\n",
    "df_6_months.head()"
   ]
  },
  {
   "cell_type": "code",
   "execution_count": null,
   "metadata": {},
   "outputs": [],
   "source": [
    "repeat_rate = df_6_months[df_6_months > 1].count() / df_6_months[df_6_months > 0].count()\n",
    "df_churn_6_months = repeat_rate.to_frame(name='repeat_rate_6_months')"
   ]
  },
  {
   "cell_type": "code",
   "execution_count": null,
   "metadata": {},
   "outputs": [],
   "source": [
    "df_churn_6_months['churn_rate_6_months'] = 1 - df_churn_6_months['repeat_rate_6_months']\n",
    "df_churn_6_months"
   ]
  },
  {
   "cell_type": "code",
   "execution_count": null,
   "metadata": {},
   "outputs": [],
   "source": [
    "# Churn per jaar\n",
    "df_year = df_month.pivot_table(\n",
    "    index=['email'],\n",
    "    columns=pd.Grouper(freq='Y'),\n",
    "    values='OrderID', \n",
    "    aggfunc='count',\n",
    "    fill_value=0\n",
    ")\n",
    "\n",
    "df_year.head()"
   ]
  },
  {
   "cell_type": "code",
   "execution_count": null,
   "metadata": {},
   "outputs": [],
   "source": [
    "repeat_rate = df_year[df_year > 1].count() / df_year[df_year > 0].count()\n",
    "df_churn_year = repeat_rate.to_frame(name='repeat_rate_year')"
   ]
  },
  {
   "cell_type": "code",
   "execution_count": null,
   "metadata": {},
   "outputs": [],
   "source": [
    "df_churn_year['churn_rate_year'] = 1 - df_churn_year['repeat_rate_year']\n",
    "df_churn_year"
   ]
  },
  {
   "cell_type": "markdown",
   "metadata": {},
   "source": [
    "# Transacties, uitgaves en unieke klanten per maand"
   ]
  },
  {
   "cell_type": "code",
   "execution_count": null,
   "metadata": {},
   "outputs": [],
   "source": [
    "# set orderdate als index\n",
    "df.set_index('Orderdate', inplace=True)"
   ]
  },
  {
   "cell_type": "code",
   "execution_count": null,
   "metadata": {},
   "outputs": [],
   "source": [
    "# groepeer totale transacties / opbrengst per maand / unieke klanten per maand\n",
    "\n",
    "df_transacties = df.groupby(pd.Grouper(freq='M')).agg(\n",
    "    {\n",
    "        'OrderID': len, \n",
    "        'TurnoverLead': sum,\n",
    "        'email': pd.Series.nunique\n",
    "    }\n",
    ")\n",
    "\n",
    "df_transacties.head()"
   ]
  },
  {
   "cell_type": "code",
   "execution_count": null,
   "metadata": {},
   "outputs": [],
   "source": [
    "df_transacties.info()"
   ]
  },
  {
   "cell_type": "code",
   "execution_count": null,
   "metadata": {},
   "outputs": [],
   "source": [
    "# Hernoem kolommen \n",
    "df_transacties.columns = ['total_transactions', 'total_spent', 'total_unique_customers']\n",
    "df_transacties.head(5)"
   ]
  },
  {
   "cell_type": "code",
   "execution_count": null,
   "metadata": {},
   "outputs": [],
   "source": [
    "df_transacties.describe()"
   ]
  },
  {
   "cell_type": "code",
   "execution_count": null,
   "metadata": {},
   "outputs": [],
   "source": [
    "df_transacties.to_excel(path_outgoing + 'Overzicht_per_maand.xlsx')"
   ]
  },
  {
   "cell_type": "markdown",
   "metadata": {},
   "source": [
    "# CLV per maand berekenen met churn per maand"
   ]
  },
  {
   "cell_type": "code",
   "execution_count": null,
   "metadata": {},
   "outputs": [],
   "source": [
    "# CLV per maand berekenen\n",
    "# margin is nu over gehele dataset, je kunt deze ook nog per maand uitrekenen\n",
    "df_transacties['purchase_frequency_month'] = df_transacties['total_transactions'] / df_transacties['total_unique_customers']\n",
    "df_transacties['avg_order_value_month'] = df_transacties['total_spent'] / df_transacties['total_transactions'] \n",
    "df_transacties['CLV'] = (df_transacties['avg_order_value_month'] * df_transacties['purchase_frequency_month']) / df_churn['churn_rate']\n",
    "df_transacties['CLV_margin'] = df_transacties['CLV'] * margin\n",
    "df_transacties.head()"
   ]
  },
  {
   "cell_type": "code",
   "execution_count": null,
   "metadata": {},
   "outputs": [],
   "source": [
    "# nieuwe dataset maken om gemiddelde CLV te berekenen\n",
    "# Drop lege kolommen \n",
    "# Toevoegen index kolom om gemiddelde mee te berekenen \n",
    "df_clv_cum= df_transacties[['CLV', 'CLV_margin']].copy()\n",
    "df_clv_cum.dropna(inplace=True)\n",
    "df_clv_cum['Index'] = np.arange(1, len(df_clv_cum) + 1)\n",
    "df_clv_cum['CLV_AVG'] = df_clv_cum['CLV'].cumsum().div(df_clv_cum['Index'])\n",
    "df_clv_cum['CLV_margin_AVG'] = df_clv_cum['CLV_margin'].cumsum().div(df_clv_cum['Index'])\n",
    "df_clv_cum.head()"
   ]
  },
  {
   "cell_type": "markdown",
   "metadata": {},
   "source": [
    "# CLV per maand berekenen met churn per 6 maanden"
   ]
  },
  {
   "cell_type": "code",
   "execution_count": null,
   "metadata": {},
   "outputs": [],
   "source": [
    "# Code om churn rate over 6 maanden en jaar bij juiste maanden en jaar vinden\n",
    "# Zonder deze code komt de churn rate over 6 maanden alleen bij de laatste maand uit en over een jaar alleen bij december\n",
    "# Deze code vult de data daarvoor aan met de berekende churn rate over deze periode\n",
    "def find_churn_rate_6_months(date):\n",
    "    \"\"\"\n",
    "    Iterate through the 'df_churn_6_months' dataframe.\n",
    "    When the date is smaller than the date on the index, \n",
    "    return the corresponding churn rate \n",
    "    Eg: July < Oct, so return October's churn rate\n",
    "    \"\"\"\n",
    "    for m in df_churn_6_months['churn_rate_6_months'].iteritems():\n",
    "        if date <= m[0]:\n",
    "            return m[1]\n",
    "        \n",
    "def find_churn_rate_1_year(date):\n",
    "    \"\"\"\n",
    "    Iterate through the 'df_churn_year' dataframe.\n",
    "    When the date is smaller than the year on the index, \n",
    "    return the corresponding churn rate \n",
    "    \"\"\"\n",
    "    for y in df_churn_year['churn_rate_year'].iteritems():\n",
    "        if date <= y[0]:\n",
    "            return y[1]"
   ]
  },
  {
   "cell_type": "code",
   "execution_count": null,
   "metadata": {
    "scrolled": true
   },
   "outputs": [],
   "source": [
    "# CLV berekenen met churn per 6 maanden\n",
    "# Eerste regel zoekt de juiste churn rate bij de juiste maanden met behulp van bovenstaande code\n",
    "df_transacties['churn_rate_6_months'] = df_transacties.index.to_series().apply(lambda x: find_churn_rate_6_months(x))\n",
    "df_transacties['CLV_churn_6M'] = (df_transacties['avg_order_value_month'] * df_transacties['purchase_frequency_month']) / df_transacties['churn_rate_6_months']\n",
    "df_transacties['CLV_margin_churn_6M'] = df_transacties['CLV_churn_6M'] * margin\n",
    "df_transacties.head(10)"
   ]
  },
  {
   "cell_type": "markdown",
   "metadata": {},
   "source": [
    "# CLV per maand berekenen met churn per jaar"
   ]
  },
  {
   "cell_type": "code",
   "execution_count": null,
   "metadata": {
    "scrolled": false
   },
   "outputs": [],
   "source": [
    "# CLV per maand berekenen met churn berekend over een jaar\n",
    "df_transacties['churn_rate_1_year'] = df_transacties.index.to_series().apply(lambda x: find_churn_rate_1_year(x))\n",
    "df_transacties['CLV_churn_Y'] = (df_transacties['avg_order_value_month'] * df_transacties['purchase_frequency_month']) / df_transacties['churn_rate_1_year']\n",
    "df_transacties['CLV_margin_churn_Y'] = df_transacties['CLV_churn_Y'] * margin\n",
    "df_transacties.head(10)"
   ]
  },
  {
   "cell_type": "markdown",
   "metadata": {},
   "source": [
    "# CLV gemiddelde toevoegen met churn per 6 maanden en jaar"
   ]
  },
  {
   "cell_type": "code",
   "execution_count": null,
   "metadata": {},
   "outputs": [],
   "source": [
    "# Toevoegen van gemiddelde CLV aan de data set bij CLV berekend met churn per 6 maanden\n",
    "df_clv_cum_6M = df_transacties[['CLV_churn_6M', 'CLV_margin_churn_6M']].copy()\n",
    "df_clv_cum_6M.dropna(inplace=True)\n",
    "df_clv_cum['CLV_AVG_6M'] = df_clv_cum_6M['CLV_churn_6M'].cumsum().div(df_clv_cum['Index'])\n",
    "df_clv_cum['CLV_margin_AVG_6M'] = df_clv_cum_6M['CLV_margin_churn_6M'].cumsum().div(df_clv_cum['Index'])\n",
    "df_clv_cum.head()"
   ]
  },
  {
   "cell_type": "code",
   "execution_count": null,
   "metadata": {},
   "outputs": [],
   "source": [
    "# Toevoegen van gemiddelde CLV aan de data set bij CLV berekend met churn per jaar\n",
    "df_clv_cum_Y = df_transacties[['CLV_churn_Y', 'CLV_margin_churn_Y']].copy()\n",
    "df_clv_cum_Y.dropna(inplace=True)\n",
    "df_clv_cum['CLV_AVG_Y'] = df_clv_cum_Y['CLV_churn_Y'].cumsum().div(df_clv_cum['Index'])\n",
    "df_clv_cum['CLV_margin_AVG_Y'] = df_clv_cum_Y['CLV_margin_churn_Y'].cumsum().div(df_clv_cum['Index'])\n",
    "df_clv_cum.head()"
   ]
  },
  {
   "cell_type": "code",
   "execution_count": null,
   "metadata": {},
   "outputs": [],
   "source": [
    "# Dataset overhouden met alle gemiddeldes\n",
    "# CLV_AVG is churn berekend per maand, 6M churn berekend over 6 maanden, Y is churn berekend over een jaar\n",
    "# Margin is steeds berekend over de gehele dataset en zelfde marge is gebruikt in alle berekeningen (kan eventueel nog per maand, 6 maanden, jaar etc. berekend worden)\n",
    "df_clv_avg = df_clv_cum[['CLV_AVG', 'CLV_margin_AVG', 'CLV_AVG_6M', 'CLV_margin_AVG_6M', 'CLV_AVG_Y', 'CLV_margin_AVG_Y']].copy()\n",
    "df_clv_avg.head(10)"
   ]
  },
  {
   "cell_type": "code",
   "execution_count": null,
   "metadata": {},
   "outputs": [],
   "source": [
    "df_clv_avg.to_excel(path_outgoing + 'Gemiddeldes CLV per maand.xlsx')"
   ]
  }
 ],
 "metadata": {
  "kernelspec": {
   "display_name": "Python 3",
   "language": "python",
   "name": "python3"
  },
  "language_info": {
   "codemirror_mode": {
    "name": "ipython",
    "version": 3
   },
   "file_extension": ".py",
   "mimetype": "text/x-python",
   "name": "python",
   "nbconvert_exporter": "python",
   "pygments_lexer": "ipython3",
   "version": "3.7.3"
  },
  "toc": {
   "base_numbering": 1,
   "nav_menu": {},
   "number_sections": true,
   "sideBar": true,
   "skip_h1_title": false,
   "title_cell": "Table of Contents",
   "title_sidebar": "Contents",
   "toc_cell": false,
   "toc_position": {},
   "toc_section_display": true,
   "toc_window_display": false
  },
  "varInspector": {
   "cols": {
    "lenName": 16,
    "lenType": 16,
    "lenVar": 40
   },
   "kernels_config": {
    "python": {
     "delete_cmd_postfix": "",
     "delete_cmd_prefix": "del ",
     "library": "var_list.py",
     "varRefreshCmd": "print(var_dic_list())"
    },
    "r": {
     "delete_cmd_postfix": ") ",
     "delete_cmd_prefix": "rm(",
     "library": "var_list.r",
     "varRefreshCmd": "cat(var_dic_list()) "
    }
   },
   "types_to_exclude": [
    "module",
    "function",
    "builtin_function_or_method",
    "instance",
    "_Feature"
   ],
   "window_display": false
  }
 },
 "nbformat": 4,
 "nbformat_minor": 2
}
