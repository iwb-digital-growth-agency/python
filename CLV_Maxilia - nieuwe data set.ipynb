{
 "cells": [
  {
   "cell_type": "markdown",
   "metadata": {},
   "source": [
    "# Benodigde libraries importeren"
   ]
  },
  {
   "cell_type": "code",
   "execution_count": 469,
   "metadata": {},
   "outputs": [],
   "source": [
    "import pandas as pd\n",
    "from datetime import datetime\n",
    "import numpy as np\n",
    "import pandas.api.types as ptypes\n"
   ]
  },
  {
   "cell_type": "markdown",
   "metadata": {},
   "source": [
    "# Bestand inladen en data filteren"
   ]
  },
  {
   "cell_type": "code",
   "execution_count": 470,
   "metadata": {},
   "outputs": [
    {
     "data": {
      "text/html": [
       "<div>\n",
       "<style scoped>\n",
       "    .dataframe tbody tr th:only-of-type {\n",
       "        vertical-align: middle;\n",
       "    }\n",
       "\n",
       "    .dataframe tbody tr th {\n",
       "        vertical-align: top;\n",
       "    }\n",
       "\n",
       "    .dataframe thead th {\n",
       "        text-align: right;\n",
       "    }\n",
       "</style>\n",
       "<table border=\"1\" class=\"dataframe\">\n",
       "  <thead>\n",
       "    <tr style=\"text-align: right;\">\n",
       "      <th></th>\n",
       "      <th>email</th>\n",
       "      <th>OrderID</th>\n",
       "      <th>TurnoverLead</th>\n",
       "      <th>BuyinLead</th>\n",
       "      <th>LeadPhase</th>\n",
       "      <th>LeadStatus</th>\n",
       "    </tr>\n",
       "    <tr>\n",
       "      <th>Orderdate</th>\n",
       "      <th></th>\n",
       "      <th></th>\n",
       "      <th></th>\n",
       "      <th></th>\n",
       "      <th></th>\n",
       "      <th></th>\n",
       "    </tr>\n",
       "  </thead>\n",
       "  <tbody>\n",
       "    <tr>\n",
       "      <th>2014-09-30</th>\n",
       "      <td>tim@schoonderbeek-cv.nl</td>\n",
       "      <td>38145</td>\n",
       "      <td>219.0</td>\n",
       "      <td>0.0</td>\n",
       "      <td>Order</td>\n",
       "      <td>Gefactureerd</td>\n",
       "    </tr>\n",
       "    <tr>\n",
       "      <th>2014-10-16</th>\n",
       "      <td>jm@luxuria-import.com</td>\n",
       "      <td>39348</td>\n",
       "      <td>635.0</td>\n",
       "      <td>0.0</td>\n",
       "      <td>Order</td>\n",
       "      <td>Gefactureerd</td>\n",
       "    </tr>\n",
       "    <tr>\n",
       "      <th>2014-09-28</th>\n",
       "      <td>d.engelkes@welzijnbergen.nl</td>\n",
       "      <td>39718</td>\n",
       "      <td>435.0</td>\n",
       "      <td>0.0</td>\n",
       "      <td>Order</td>\n",
       "      <td>Gefactureerd</td>\n",
       "    </tr>\n",
       "    <tr>\n",
       "      <th>2014-10-20</th>\n",
       "      <td>d.engelkes@welzijnbergen.nl</td>\n",
       "      <td>39715</td>\n",
       "      <td>689.0</td>\n",
       "      <td>0.0</td>\n",
       "      <td>Order</td>\n",
       "      <td>Gefactureerd</td>\n",
       "    </tr>\n",
       "    <tr>\n",
       "      <th>2014-10-28</th>\n",
       "      <td>d.engelkes@welzijnbergen.nl</td>\n",
       "      <td>39714</td>\n",
       "      <td>200.0</td>\n",
       "      <td>0.0</td>\n",
       "      <td>Order</td>\n",
       "      <td>Gefactureerd</td>\n",
       "    </tr>\n",
       "  </tbody>\n",
       "</table>\n",
       "</div>"
      ],
      "text/plain": [
       "                                  email  OrderID  TurnoverLead  BuyinLead  \\\n",
       "Orderdate                                                                   \n",
       "2014-09-30      tim@schoonderbeek-cv.nl    38145         219.0        0.0   \n",
       "2014-10-16        jm@luxuria-import.com    39348         635.0        0.0   \n",
       "2014-09-28  d.engelkes@welzijnbergen.nl    39718         435.0        0.0   \n",
       "2014-10-20  d.engelkes@welzijnbergen.nl    39715         689.0        0.0   \n",
       "2014-10-28  d.engelkes@welzijnbergen.nl    39714         200.0        0.0   \n",
       "\n",
       "           LeadPhase    LeadStatus  \n",
       "Orderdate                           \n",
       "2014-09-30     Order  Gefactureerd  \n",
       "2014-10-16     Order  Gefactureerd  \n",
       "2014-09-28     Order  Gefactureerd  \n",
       "2014-10-20     Order  Gefactureerd  \n",
       "2014-10-28     Order  Gefactureerd  "
      ]
     },
     "execution_count": 470,
     "metadata": {},
     "output_type": "execute_result"
    }
   ],
   "source": [
    "# excel bestand maxilia geimporteerd en kolommen gefilterd \n",
    "\n",
    "data = pd.read_csv('expdata 20190912 1002.csv', sep = None, delimiter = None, usecols = ['email','Orderdate','OrderID','TurnoverLead', 'BuyinLead', 'LeadPhase','LeadStatus'], engine = 'python') \n",
    "df.head()"
   ]
  },
  {
   "cell_type": "code",
   "execution_count": 471,
   "metadata": {},
   "outputs": [
    {
     "name": "stdout",
     "output_type": "stream",
     "text": [
      "<class 'pandas.core.frame.DataFrame'>\n",
      "DatetimeIndex: 13 entries, 2014-09-30 to 2014-11-28\n",
      "Data columns (total 6 columns):\n",
      "email           13 non-null object\n",
      "OrderID         13 non-null int64\n",
      "TurnoverLead    13 non-null float64\n",
      "BuyinLead       13 non-null float64\n",
      "LeadPhase       13 non-null object\n",
      "LeadStatus      13 non-null object\n",
      "dtypes: float64(2), int64(1), object(3)\n",
      "memory usage: 728.0+ bytes\n"
     ]
    }
   ],
   "source": [
    "df.info()"
   ]
  },
  {
   "cell_type": "code",
   "execution_count": 472,
   "metadata": {},
   "outputs": [
    {
     "data": {
      "text/html": [
       "<div>\n",
       "<style scoped>\n",
       "    .dataframe tbody tr th:only-of-type {\n",
       "        vertical-align: middle;\n",
       "    }\n",
       "\n",
       "    .dataframe tbody tr th {\n",
       "        vertical-align: top;\n",
       "    }\n",
       "\n",
       "    .dataframe thead th {\n",
       "        text-align: right;\n",
       "    }\n",
       "</style>\n",
       "<table border=\"1\" class=\"dataframe\">\n",
       "  <thead>\n",
       "    <tr style=\"text-align: right;\">\n",
       "      <th></th>\n",
       "      <th>email</th>\n",
       "      <th>OrderID</th>\n",
       "      <th>TurnoverLead</th>\n",
       "      <th>BuyinLead</th>\n",
       "      <th>LeadPhase</th>\n",
       "      <th>LeadStatus</th>\n",
       "    </tr>\n",
       "    <tr>\n",
       "      <th>Orderdate</th>\n",
       "      <th></th>\n",
       "      <th></th>\n",
       "      <th></th>\n",
       "      <th></th>\n",
       "      <th></th>\n",
       "      <th></th>\n",
       "    </tr>\n",
       "  </thead>\n",
       "  <tbody>\n",
       "    <tr>\n",
       "      <th>2014-09-30</th>\n",
       "      <td>tim@schoonderbeek-cv.nl</td>\n",
       "      <td>38145</td>\n",
       "      <td>219.00</td>\n",
       "      <td>0.0</td>\n",
       "      <td>Order</td>\n",
       "      <td>Gefactureerd</td>\n",
       "    </tr>\n",
       "    <tr>\n",
       "      <th>2014-10-16</th>\n",
       "      <td>jm@luxuria-import.com</td>\n",
       "      <td>39348</td>\n",
       "      <td>635.00</td>\n",
       "      <td>0.0</td>\n",
       "      <td>Order</td>\n",
       "      <td>Gefactureerd</td>\n",
       "    </tr>\n",
       "    <tr>\n",
       "      <th>2014-09-28</th>\n",
       "      <td>d.engelkes@welzijnbergen.nl</td>\n",
       "      <td>39718</td>\n",
       "      <td>435.00</td>\n",
       "      <td>0.0</td>\n",
       "      <td>Order</td>\n",
       "      <td>Gefactureerd</td>\n",
       "    </tr>\n",
       "    <tr>\n",
       "      <th>2014-10-20</th>\n",
       "      <td>d.engelkes@welzijnbergen.nl</td>\n",
       "      <td>39715</td>\n",
       "      <td>689.00</td>\n",
       "      <td>0.0</td>\n",
       "      <td>Order</td>\n",
       "      <td>Gefactureerd</td>\n",
       "    </tr>\n",
       "    <tr>\n",
       "      <th>2014-10-28</th>\n",
       "      <td>d.engelkes@welzijnbergen.nl</td>\n",
       "      <td>39714</td>\n",
       "      <td>200.00</td>\n",
       "      <td>0.0</td>\n",
       "      <td>Order</td>\n",
       "      <td>Gefactureerd</td>\n",
       "    </tr>\n",
       "    <tr>\n",
       "      <th>2014-11-30</th>\n",
       "      <td>c.huigen@denf.nl</td>\n",
       "      <td>37999</td>\n",
       "      <td>1057.00</td>\n",
       "      <td>0.0</td>\n",
       "      <td>Order</td>\n",
       "      <td>Gefactureerd</td>\n",
       "    </tr>\n",
       "    <tr>\n",
       "      <th>2014-11-04</th>\n",
       "      <td>info@montagebedrijfhorlings.nl</td>\n",
       "      <td>39895</td>\n",
       "      <td>385.18</td>\n",
       "      <td>0.0</td>\n",
       "      <td>Order</td>\n",
       "      <td>Gefactureerd</td>\n",
       "    </tr>\n",
       "    <tr>\n",
       "      <th>2014-11-24</th>\n",
       "      <td>info@montagebedrijfhorlings.nl</td>\n",
       "      <td>39896</td>\n",
       "      <td>385.18</td>\n",
       "      <td>0.0</td>\n",
       "      <td>Order</td>\n",
       "      <td>Gefactureerd</td>\n",
       "    </tr>\n",
       "    <tr>\n",
       "      <th>2014-11-07</th>\n",
       "      <td>info@montagebedrijfhorlings.nl</td>\n",
       "      <td>39893</td>\n",
       "      <td>385.18</td>\n",
       "      <td>0.0</td>\n",
       "      <td>Order</td>\n",
       "      <td>Gefactureerd</td>\n",
       "    </tr>\n",
       "    <tr>\n",
       "      <th>2014-09-20</th>\n",
       "      <td>tim@schoonderbeek-cv.nl</td>\n",
       "      <td>38146</td>\n",
       "      <td>219.00</td>\n",
       "      <td>0.0</td>\n",
       "      <td>Order</td>\n",
       "      <td>Gefactureerd</td>\n",
       "    </tr>\n",
       "    <tr>\n",
       "      <th>2014-10-30</th>\n",
       "      <td>tim@schoonderbeek-cv.nl</td>\n",
       "      <td>38245</td>\n",
       "      <td>219.00</td>\n",
       "      <td>0.0</td>\n",
       "      <td>Order</td>\n",
       "      <td>Gefactureerd</td>\n",
       "    </tr>\n",
       "    <tr>\n",
       "      <th>2014-11-30</th>\n",
       "      <td>tim@schoonderbeek-cv.nl</td>\n",
       "      <td>38156</td>\n",
       "      <td>219.00</td>\n",
       "      <td>0.0</td>\n",
       "      <td>Order</td>\n",
       "      <td>Gefactureerd</td>\n",
       "    </tr>\n",
       "    <tr>\n",
       "      <th>2014-11-28</th>\n",
       "      <td>d.engelkes@welzijnbergen.nl</td>\n",
       "      <td>39776</td>\n",
       "      <td>435.00</td>\n",
       "      <td>0.0</td>\n",
       "      <td>Order</td>\n",
       "      <td>Gefactureerd</td>\n",
       "    </tr>\n",
       "  </tbody>\n",
       "</table>\n",
       "</div>"
      ],
      "text/plain": [
       "                                     email  OrderID  TurnoverLead  BuyinLead  \\\n",
       "Orderdate                                                                      \n",
       "2014-09-30         tim@schoonderbeek-cv.nl    38145        219.00        0.0   \n",
       "2014-10-16           jm@luxuria-import.com    39348        635.00        0.0   \n",
       "2014-09-28     d.engelkes@welzijnbergen.nl    39718        435.00        0.0   \n",
       "2014-10-20     d.engelkes@welzijnbergen.nl    39715        689.00        0.0   \n",
       "2014-10-28     d.engelkes@welzijnbergen.nl    39714        200.00        0.0   \n",
       "2014-11-30                c.huigen@denf.nl    37999       1057.00        0.0   \n",
       "2014-11-04  info@montagebedrijfhorlings.nl    39895        385.18        0.0   \n",
       "2014-11-24  info@montagebedrijfhorlings.nl    39896        385.18        0.0   \n",
       "2014-11-07  info@montagebedrijfhorlings.nl    39893        385.18        0.0   \n",
       "2014-09-20         tim@schoonderbeek-cv.nl    38146        219.00        0.0   \n",
       "2014-10-30         tim@schoonderbeek-cv.nl    38245        219.00        0.0   \n",
       "2014-11-30         tim@schoonderbeek-cv.nl    38156        219.00        0.0   \n",
       "2014-11-28     d.engelkes@welzijnbergen.nl    39776        435.00        0.0   \n",
       "\n",
       "           LeadPhase    LeadStatus  \n",
       "Orderdate                           \n",
       "2014-09-30     Order  Gefactureerd  \n",
       "2014-10-16     Order  Gefactureerd  \n",
       "2014-09-28     Order  Gefactureerd  \n",
       "2014-10-20     Order  Gefactureerd  \n",
       "2014-10-28     Order  Gefactureerd  \n",
       "2014-11-30     Order  Gefactureerd  \n",
       "2014-11-04     Order  Gefactureerd  \n",
       "2014-11-24     Order  Gefactureerd  \n",
       "2014-11-07     Order  Gefactureerd  \n",
       "2014-09-20     Order  Gefactureerd  \n",
       "2014-10-30     Order  Gefactureerd  \n",
       "2014-11-30     Order  Gefactureerd  \n",
       "2014-11-28     Order  Gefactureerd  "
      ]
     },
     "execution_count": 472,
     "metadata": {},
     "output_type": "execute_result"
    }
   ],
   "source": [
    "# lege rijen 'NaT' eruit gefilterd \n",
    "# Email bevat @ controle\n",
    "# Duplicaten verwijderen\n",
    "\n",
    "df = df.dropna(axis=0, how = 'any', inplace=False)\n",
    "df = df[~df['email'].str.contains('@')==False]\n",
    "df = df.drop_duplicates('OrderID', keep='first')\n",
    "df"
   ]
  },
  {
   "cell_type": "code",
   "execution_count": 473,
   "metadata": {},
   "outputs": [
    {
     "ename": "KeyError",
     "evalue": "'Orderdate'",
     "output_type": "error",
     "traceback": [
      "\u001b[0;31m---------------------------------------------------------------------------\u001b[0m",
      "\u001b[0;31mKeyError\u001b[0m                                  Traceback (most recent call last)",
      "\u001b[0;32m/anaconda3/lib/python3.7/site-packages/pandas/core/indexes/base.py\u001b[0m in \u001b[0;36mget_loc\u001b[0;34m(self, key, method, tolerance)\u001b[0m\n\u001b[1;32m   2656\u001b[0m             \u001b[0;32mtry\u001b[0m\u001b[0;34m:\u001b[0m\u001b[0;34m\u001b[0m\u001b[0;34m\u001b[0m\u001b[0m\n\u001b[0;32m-> 2657\u001b[0;31m                 \u001b[0;32mreturn\u001b[0m \u001b[0mself\u001b[0m\u001b[0;34m.\u001b[0m\u001b[0m_engine\u001b[0m\u001b[0;34m.\u001b[0m\u001b[0mget_loc\u001b[0m\u001b[0;34m(\u001b[0m\u001b[0mkey\u001b[0m\u001b[0;34m)\u001b[0m\u001b[0;34m\u001b[0m\u001b[0;34m\u001b[0m\u001b[0m\n\u001b[0m\u001b[1;32m   2658\u001b[0m             \u001b[0;32mexcept\u001b[0m \u001b[0mKeyError\u001b[0m\u001b[0;34m:\u001b[0m\u001b[0;34m\u001b[0m\u001b[0;34m\u001b[0m\u001b[0m\n",
      "\u001b[0;32mpandas/_libs/index.pyx\u001b[0m in \u001b[0;36mpandas._libs.index.IndexEngine.get_loc\u001b[0;34m()\u001b[0m\n",
      "\u001b[0;32mpandas/_libs/index.pyx\u001b[0m in \u001b[0;36mpandas._libs.index.IndexEngine.get_loc\u001b[0;34m()\u001b[0m\n",
      "\u001b[0;32mpandas/_libs/hashtable_class_helper.pxi\u001b[0m in \u001b[0;36mpandas._libs.hashtable.PyObjectHashTable.get_item\u001b[0;34m()\u001b[0m\n",
      "\u001b[0;32mpandas/_libs/hashtable_class_helper.pxi\u001b[0m in \u001b[0;36mpandas._libs.hashtable.PyObjectHashTable.get_item\u001b[0;34m()\u001b[0m\n",
      "\u001b[0;31mKeyError\u001b[0m: 'Orderdate'",
      "\nDuring handling of the above exception, another exception occurred:\n",
      "\u001b[0;31mKeyError\u001b[0m                                  Traceback (most recent call last)",
      "\u001b[0;32m<ipython-input-473-10b346372808>\u001b[0m in \u001b[0;36m<module>\u001b[0;34m\u001b[0m\n\u001b[0;32m----> 1\u001b[0;31m \u001b[0mdf\u001b[0m\u001b[0;34m[\u001b[0m\u001b[0;34m'Orderdate'\u001b[0m\u001b[0;34m]\u001b[0m\u001b[0;34m=\u001b[0m\u001b[0mpd\u001b[0m\u001b[0;34m.\u001b[0m\u001b[0mto_datetime\u001b[0m\u001b[0;34m(\u001b[0m\u001b[0mdf\u001b[0m\u001b[0;34m[\u001b[0m\u001b[0;34m'Orderdate'\u001b[0m\u001b[0;34m]\u001b[0m\u001b[0;34m,\u001b[0m \u001b[0mformat\u001b[0m\u001b[0;34m=\u001b[0m\u001b[0;34m'%Y-%m-%d'\u001b[0m\u001b[0;34m)\u001b[0m\u001b[0;34m\u001b[0m\u001b[0;34m\u001b[0m\u001b[0m\n\u001b[0m",
      "\u001b[0;32m/anaconda3/lib/python3.7/site-packages/pandas/core/frame.py\u001b[0m in \u001b[0;36m__getitem__\u001b[0;34m(self, key)\u001b[0m\n\u001b[1;32m   2925\u001b[0m             \u001b[0;32mif\u001b[0m \u001b[0mself\u001b[0m\u001b[0;34m.\u001b[0m\u001b[0mcolumns\u001b[0m\u001b[0;34m.\u001b[0m\u001b[0mnlevels\u001b[0m \u001b[0;34m>\u001b[0m \u001b[0;36m1\u001b[0m\u001b[0;34m:\u001b[0m\u001b[0;34m\u001b[0m\u001b[0;34m\u001b[0m\u001b[0m\n\u001b[1;32m   2926\u001b[0m                 \u001b[0;32mreturn\u001b[0m \u001b[0mself\u001b[0m\u001b[0;34m.\u001b[0m\u001b[0m_getitem_multilevel\u001b[0m\u001b[0;34m(\u001b[0m\u001b[0mkey\u001b[0m\u001b[0;34m)\u001b[0m\u001b[0;34m\u001b[0m\u001b[0;34m\u001b[0m\u001b[0m\n\u001b[0;32m-> 2927\u001b[0;31m             \u001b[0mindexer\u001b[0m \u001b[0;34m=\u001b[0m \u001b[0mself\u001b[0m\u001b[0;34m.\u001b[0m\u001b[0mcolumns\u001b[0m\u001b[0;34m.\u001b[0m\u001b[0mget_loc\u001b[0m\u001b[0;34m(\u001b[0m\u001b[0mkey\u001b[0m\u001b[0;34m)\u001b[0m\u001b[0;34m\u001b[0m\u001b[0;34m\u001b[0m\u001b[0m\n\u001b[0m\u001b[1;32m   2928\u001b[0m             \u001b[0;32mif\u001b[0m \u001b[0mis_integer\u001b[0m\u001b[0;34m(\u001b[0m\u001b[0mindexer\u001b[0m\u001b[0;34m)\u001b[0m\u001b[0;34m:\u001b[0m\u001b[0;34m\u001b[0m\u001b[0;34m\u001b[0m\u001b[0m\n\u001b[1;32m   2929\u001b[0m                 \u001b[0mindexer\u001b[0m \u001b[0;34m=\u001b[0m \u001b[0;34m[\u001b[0m\u001b[0mindexer\u001b[0m\u001b[0;34m]\u001b[0m\u001b[0;34m\u001b[0m\u001b[0;34m\u001b[0m\u001b[0m\n",
      "\u001b[0;32m/anaconda3/lib/python3.7/site-packages/pandas/core/indexes/base.py\u001b[0m in \u001b[0;36mget_loc\u001b[0;34m(self, key, method, tolerance)\u001b[0m\n\u001b[1;32m   2657\u001b[0m                 \u001b[0;32mreturn\u001b[0m \u001b[0mself\u001b[0m\u001b[0;34m.\u001b[0m\u001b[0m_engine\u001b[0m\u001b[0;34m.\u001b[0m\u001b[0mget_loc\u001b[0m\u001b[0;34m(\u001b[0m\u001b[0mkey\u001b[0m\u001b[0;34m)\u001b[0m\u001b[0;34m\u001b[0m\u001b[0;34m\u001b[0m\u001b[0m\n\u001b[1;32m   2658\u001b[0m             \u001b[0;32mexcept\u001b[0m \u001b[0mKeyError\u001b[0m\u001b[0;34m:\u001b[0m\u001b[0;34m\u001b[0m\u001b[0;34m\u001b[0m\u001b[0m\n\u001b[0;32m-> 2659\u001b[0;31m                 \u001b[0;32mreturn\u001b[0m \u001b[0mself\u001b[0m\u001b[0;34m.\u001b[0m\u001b[0m_engine\u001b[0m\u001b[0;34m.\u001b[0m\u001b[0mget_loc\u001b[0m\u001b[0;34m(\u001b[0m\u001b[0mself\u001b[0m\u001b[0;34m.\u001b[0m\u001b[0m_maybe_cast_indexer\u001b[0m\u001b[0;34m(\u001b[0m\u001b[0mkey\u001b[0m\u001b[0;34m)\u001b[0m\u001b[0;34m)\u001b[0m\u001b[0;34m\u001b[0m\u001b[0;34m\u001b[0m\u001b[0m\n\u001b[0m\u001b[1;32m   2660\u001b[0m         \u001b[0mindexer\u001b[0m \u001b[0;34m=\u001b[0m \u001b[0mself\u001b[0m\u001b[0;34m.\u001b[0m\u001b[0mget_indexer\u001b[0m\u001b[0;34m(\u001b[0m\u001b[0;34m[\u001b[0m\u001b[0mkey\u001b[0m\u001b[0;34m]\u001b[0m\u001b[0;34m,\u001b[0m \u001b[0mmethod\u001b[0m\u001b[0;34m=\u001b[0m\u001b[0mmethod\u001b[0m\u001b[0;34m,\u001b[0m \u001b[0mtolerance\u001b[0m\u001b[0;34m=\u001b[0m\u001b[0mtolerance\u001b[0m\u001b[0;34m)\u001b[0m\u001b[0;34m\u001b[0m\u001b[0;34m\u001b[0m\u001b[0m\n\u001b[1;32m   2661\u001b[0m         \u001b[0;32mif\u001b[0m \u001b[0mindexer\u001b[0m\u001b[0;34m.\u001b[0m\u001b[0mndim\u001b[0m \u001b[0;34m>\u001b[0m \u001b[0;36m1\u001b[0m \u001b[0;32mor\u001b[0m \u001b[0mindexer\u001b[0m\u001b[0;34m.\u001b[0m\u001b[0msize\u001b[0m \u001b[0;34m>\u001b[0m \u001b[0;36m1\u001b[0m\u001b[0;34m:\u001b[0m\u001b[0;34m\u001b[0m\u001b[0;34m\u001b[0m\u001b[0m\n",
      "\u001b[0;32mpandas/_libs/index.pyx\u001b[0m in \u001b[0;36mpandas._libs.index.IndexEngine.get_loc\u001b[0;34m()\u001b[0m\n",
      "\u001b[0;32mpandas/_libs/index.pyx\u001b[0m in \u001b[0;36mpandas._libs.index.IndexEngine.get_loc\u001b[0;34m()\u001b[0m\n",
      "\u001b[0;32mpandas/_libs/hashtable_class_helper.pxi\u001b[0m in \u001b[0;36mpandas._libs.hashtable.PyObjectHashTable.get_item\u001b[0;34m()\u001b[0m\n",
      "\u001b[0;32mpandas/_libs/hashtable_class_helper.pxi\u001b[0m in \u001b[0;36mpandas._libs.hashtable.PyObjectHashTable.get_item\u001b[0;34m()\u001b[0m\n",
      "\u001b[0;31mKeyError\u001b[0m: 'Orderdate'"
     ]
    }
   ],
   "source": [
    "df['Orderdate']=pd.to_datetime(df['Orderdate'], format='%Y-%m-%d')\n"
   ]
  },
  {
   "cell_type": "code",
   "execution_count": null,
   "metadata": {},
   "outputs": [],
   "source": [
    "df.info()"
   ]
  },
  {
   "cell_type": "code",
   "execution_count": null,
   "metadata": {},
   "outputs": [],
   "source": [
    "df.describe()"
   ]
  },
  {
   "cell_type": "code",
   "execution_count": null,
   "metadata": {},
   "outputs": [],
   "source": [
    "# Leadphase = order\n",
    "# Leadstatus = gefactureerd\n",
    "df = df[~df['LeadPhase'].str.contains('Order')==False]\n",
    "df = df[~df['LeadStatus'].str.contains('Gefactureerd')==False]\n",
    "df.head()"
   ]
  },
  {
   "cell_type": "code",
   "execution_count": null,
   "metadata": {},
   "outputs": [],
   "source": [
    "df.info()"
   ]
  },
  {
   "cell_type": "code",
   "execution_count": null,
   "metadata": {},
   "outputs": [],
   "source": [
    "# Check data bevat voldoet aan bepaalde condities\n",
    "assert ptypes.is_datetime64_any_dtype(df['Orderdate'])\n",
    "assert df['email'].str.contains('@').all()\n",
    "assert df['LeadPhase'].eq('Order').all()\n",
    "assert df['LeadStatus'].eq('Gefactureerd').all()\n"
   ]
  },
  {
   "cell_type": "markdown",
   "metadata": {},
   "source": [
    "# Data grouperen per klant"
   ]
  },
  {
   "cell_type": "code",
   "execution_count": null,
   "metadata": {},
   "outputs": [],
   "source": [
    "# group by customer ID\n",
    "# hoeveel orders zijn er gedaan per customer\n",
    "# totale uitgaven per customer \n",
    "\n",
    "df_clv = df.groupby('email').agg({\n",
    "                                                        'Orderdate': lambda date: (date.max() - date.min()).days,\n",
    "                                                        'OrderID': lambda num: len(num), \n",
    "                                                        'TurnoverLead': lambda price: price.sum()\n",
    "                                                    }) \n",
    "df_clv.head()"
   ]
  },
  {
   "cell_type": "code",
   "execution_count": null,
   "metadata": {},
   "outputs": [],
   "source": [
    "# rename kolommen \n",
    "\n",
    "df_clv.columns = ['days_customer', 'total_transactions', 'total_spent']\n",
    "df_clv.head()"
   ]
  },
  {
   "cell_type": "code",
   "execution_count": null,
   "metadata": {},
   "outputs": [],
   "source": [
    "df_clv.describe()"
   ]
  },
  {
   "cell_type": "markdown",
   "metadata": {},
   "source": [
    "# Berekenen van de totale CLV"
   ]
  },
  {
   "cell_type": "code",
   "execution_count": null,
   "metadata": {},
   "outputs": [],
   "source": [
    "# gemiddelde order waarde \n",
    "\n",
    "avg_order_value = sum(df_clv['total_spent']) / sum(df_clv['total_transactions'])\n",
    "print(avg_order_value)"
   ]
  },
  {
   "cell_type": "code",
   "execution_count": null,
   "metadata": {},
   "outputs": [],
   "source": [
    "# hoe vaak koopt iemand gemiddeld iets\n",
    "\n",
    "purchase_frequency = sum(df_clv['total_transactions']) / df_clv.shape[0]\n",
    "print(purchase_frequency)"
   ]
  },
  {
   "cell_type": "code",
   "execution_count": null,
   "metadata": {},
   "outputs": [],
   "source": [
    "# hoe vaak komt iemand terug\n",
    "\n",
    "repeat_rate = df_clv[df_clv.total_transactions > 1].shape[0] / df_clv.shape[0] \n",
    "print(repeat_rate)"
   ]
  },
  {
   "cell_type": "code",
   "execution_count": null,
   "metadata": {},
   "outputs": [],
   "source": [
    "# churnrate: hoeveel % doet na 1 aankoop geen bestelling meer\n",
    "\n",
    "churn_rate = 1 - repeat_rate\n",
    "print(churn_rate)"
   ]
  },
  {
   "cell_type": "code",
   "execution_count": null,
   "metadata": {},
   "outputs": [],
   "source": [
    "# gemiddelde marge  \n",
    "\n",
    "profit = sum(df['TurnoverLead']) - sum(df['BuyinLead'])\n",
    "margin = profit / sum(df['TurnoverLead'])\n",
    "    \n",
    "print(margin)"
   ]
  },
  {
   "cell_type": "code",
   "execution_count": null,
   "metadata": {},
   "outputs": [],
   "source": [
    "# totale clv & clv marge \n",
    "# in het blok hierboven is de marge berekend ('margin'), maar je kan ook een getal noteren ipv 'margin'\n",
    "\n",
    "total_clv = (avg_order_value * purchase_frequency) / churn_rate \n",
    "total_clv_margin = total_clv * margin\n",
    "\n",
    "print(total_clv) # het eerste getal is de totale clv\n",
    "print(total_clv_margin) # het tweede getal is de clv waarbij rekening is gehouden met de berekende marge"
   ]
  },
  {
   "cell_type": "code",
   "execution_count": null,
   "metadata": {},
   "outputs": [],
   "source": [
    "# Bovenstaande cijfers in kolom neerzetten zodat de data in datastudio kan worden gebruikt\n",
    "set_total_clv = avg_order_value, purchase_frequency, churn_rate, total_clv, total_clv_margin \n",
    "df_total_clv = pd.DataFrame(set_total_clv, columns= ['Waarde'], index = ['Gemiddelde orderwaarde' , 'Frequentie aankoop', 'Churn rate' , 'CLV', 'CLV marge'])\n",
    "df_clv_values=df_total_clv.T.groupby(level=0).agg(lambda x : x.values.tolist()).stack().apply(pd.Series).unstack().sort_index(level=1,axis=1)\n",
    "df_clv_values.columns=df_clv_values.columns.droplevel(level=0)\n",
    "df_clv_values.head()"
   ]
  },
  {
   "cell_type": "code",
   "execution_count": null,
   "metadata": {},
   "outputs": [],
   "source": [
    "df_clv_values.to_excel('CLV_waardes.xlsx')"
   ]
  },
  {
   "cell_type": "markdown",
   "metadata": {},
   "source": [
    "   # Transacties en churn rate per maand uiteenzetten"
   ]
  },
  {
   "cell_type": "code",
   "execution_count": null,
   "metadata": {},
   "outputs": [],
   "source": [
    "# transacties per klant per maand uiteenzetten\n",
    "df_monthly = df.set_index('Orderdate')\n",
    "df_monthly = df_monthly.pivot_table(\n",
    "    index=['email'],\n",
    "    columns=pd.Grouper(freq='M'),\n",
    "    values='OrderID', \n",
    "    aggfunc='count',\n",
    "    fill_value=0\n",
    ")\n",
    "\n",
    "# Format column headers to human readable format\n",
    "#df_monthly.columns = [x.strftime('%b %Y') for x in df_monthly.columns]\n",
    "df_monthly"
   ]
  },
  {
   "cell_type": "code",
   "execution_count": null,
   "metadata": {},
   "outputs": [],
   "source": [
    "repeat_rate = df_monthly[df_monthly > 1].count() / df_monthly[df_monthly > 0].count()\n",
    "df_churn = repeat_rate.to_frame(name='repeat_rate')"
   ]
  },
  {
   "cell_type": "code",
   "execution_count": null,
   "metadata": {},
   "outputs": [],
   "source": [
    "df_churn['churn_rate'] = 1 - df_churn['repeat_rate']\n",
    "df_churn\n"
   ]
  },
  {
   "cell_type": "markdown",
   "metadata": {},
   "source": [
    "# CLV per klant uitrekenen"
   ]
  },
  {
   "cell_type": "code",
   "execution_count": null,
   "metadata": {},
   "outputs": [],
   "source": [
    "# clv per customer\n",
    "\n",
    "df_clv['customer_order_value'] = df_clv['total_spent'] / df_clv['total_transactions']\n",
    "df_clv['customer_clv'] = (df_clv['customer_order_value'] * purchase_frequency) / churn_rate\n",
    "df_clv['customer_clv_margin'] = df_clv['customer_clv'] * margin\n",
    "\n",
    "df_clv.head()"
   ]
  },
  {
   "cell_type": "code",
   "execution_count": null,
   "metadata": {},
   "outputs": [],
   "source": [
    "df_clv.describe()"
   ]
  },
  {
   "cell_type": "code",
   "execution_count": null,
   "metadata": {},
   "outputs": [],
   "source": [
    "df_clv.to_excel('CLV_per_klant.xlsx')"
   ]
  },
  {
   "cell_type": "code",
   "execution_count": null,
   "metadata": {},
   "outputs": [],
   "source": [
    "# set orderdate als index\n",
    "df.set_index('Orderdate', inplace=True)"
   ]
  },
  {
   "cell_type": "code",
   "execution_count": null,
   "metadata": {},
   "outputs": [],
   "source": [
    "#totale transacties / opbrengst per maand\n",
    "\n",
    "df_transacties = df.groupby(pd.Grouper(freq='M')).agg(\n",
    "    {\n",
    "        'OrderID': len, \n",
    "        'TurnoverLead': sum,\n",
    "        'email': pd.Series.nunique\n",
    "    }\n",
    ")\n",
    "\n",
    "df_transacties.head()"
   ]
  },
  {
   "cell_type": "code",
   "execution_count": null,
   "metadata": {},
   "outputs": [],
   "source": [
    "# Uiteenzetting uitgaves klanten per maand\n",
    "# df['month_yr'] = df['Orderdate'].apply(lambda x: x.strftime('%b %Y'))\n",
    "# df.head()\n"
   ]
  },
  {
   "cell_type": "code",
   "execution_count": null,
   "metadata": {},
   "outputs": [],
   "source": [
    "# totale transacties / opbrengst per maand\n",
    "\n",
    "# df_transacties = df.groupby('month_yr').aggregate({\n",
    "#                                                        'OrderID': lambda num: len(num), \n",
    "#                                                        'TurnoverLead': lambda price: price.sum(),\n",
    "#                                                        'email': pd.Series.nunique\n",
    "#                                                    }) \n",
    "# df_transacties.head()"
   ]
  },
  {
   "cell_type": "code",
   "execution_count": null,
   "metadata": {},
   "outputs": [],
   "source": [
    "df_transacties.info()"
   ]
  },
  {
   "cell_type": "code",
   "execution_count": null,
   "metadata": {},
   "outputs": [],
   "source": [
    "df_transacties.columns = ['total_transactions', 'total_spent', 'total_unique_customers']\n",
    "df_transacties.head(5)"
   ]
  },
  {
   "cell_type": "code",
   "execution_count": null,
   "metadata": {},
   "outputs": [],
   "source": [
    "df_transacties.describe()"
   ]
  },
  {
   "cell_type": "code",
   "execution_count": null,
   "metadata": {},
   "outputs": [],
   "source": [
    "df_transacties.to_excel('Overzicht_per_maand.xlsx')"
   ]
  },
  {
   "cell_type": "markdown",
   "metadata": {},
   "source": [
    "# CLV per maand berekenen"
   ]
  },
  {
   "cell_type": "code",
   "execution_count": null,
   "metadata": {},
   "outputs": [],
   "source": [
    "# CLV per maand berekenen\n",
    "df_transacties['purchase_frequency_month'] = df_transacties['total_transactions'] / df_transacties['total_unique_customers']\n",
    "df_transacties['avg_order_value_month'] = df_transacties['total_spent'] / df_transacties['total_transactions'] \n",
    "df_transacties['CLV'] = (df_transacties['avg_order_value_month'] * df_transacties['purchase_frequency_month']) / df_churn['churn_rate']\n",
    "df_transacties['CLV_margin'] = df_transacties['CLV'] * margin\n",
    "df_transacties.head()"
   ]
  },
  {
   "cell_type": "code",
   "execution_count": null,
   "metadata": {},
   "outputs": [],
   "source": [
    "# New dataframe to calculate CLV averages. Needs \"index\" & \"number of months\" helper columns\n",
    "# Even if some rows (\"months\") are missing, \"number of months\" is still correct\n",
    "# Because it looks at the dates, not the index locations. \n",
    "df_clv_cum = df_transacties[['CLV']].copy()\n",
    "df_clv_cum.dropna(inplace=True)\n",
    "df_clv_cum['Index'] = np.arange(1, len(df_clv_cum) + 1)\n",
    "df_clv_cum['CLV_AVG'] = df_clv_cum['CLV'].cumsum().div(df_clv_cum['Index'])\n",
    "df_clv_cum"
   ]
  },
  {
   "cell_type": "code",
   "execution_count": null,
   "metadata": {},
   "outputs": [],
   "source": [
    "# df_clv_cum = pd.DataFrame(df_transacties.iloc[:,-2])\n",
    "# df_clv_cum['CLV_cumulatief'] = df_clv_cum.rolling(window=4).mean()\n",
    "# df_clv_cum.head()"
   ]
  }
 ],
 "metadata": {
  "kernelspec": {
   "display_name": "Python 3",
   "language": "python",
   "name": "python3"
  },
  "language_info": {
   "codemirror_mode": {
    "name": "ipython",
    "version": 3
   },
   "file_extension": ".py",
   "mimetype": "text/x-python",
   "name": "python",
   "nbconvert_exporter": "python",
   "pygments_lexer": "ipython3",
   "version": "3.7.3"
  }
 },
 "nbformat": 4,
 "nbformat_minor": 2
}
