{
 "cells": [
  {
   "cell_type": "markdown",
   "metadata": {},
   "source": [
    "# Benodigde libraries importeren"
   ]
  },
  {
   "cell_type": "code",
   "execution_count": 75,
   "metadata": {},
   "outputs": [],
   "source": [
    "import pandas as pd\n",
    "from datetime import datetime\n",
    "import numpy as np\n",
    "import pandas.api.types as ptypes\n"
   ]
  },
  {
   "cell_type": "markdown",
   "metadata": {},
   "source": [
    "# Bestand inladen en data filteren"
   ]
  },
  {
   "cell_type": "code",
   "execution_count": 76,
   "metadata": {},
   "outputs": [
    {
     "data": {
      "text/html": [
       "<div>\n",
       "<style scoped>\n",
       "    .dataframe tbody tr th:only-of-type {\n",
       "        vertical-align: middle;\n",
       "    }\n",
       "\n",
       "    .dataframe tbody tr th {\n",
       "        vertical-align: top;\n",
       "    }\n",
       "\n",
       "    .dataframe thead th {\n",
       "        text-align: right;\n",
       "    }\n",
       "</style>\n",
       "<table border=\"1\" class=\"dataframe\">\n",
       "  <thead>\n",
       "    <tr style=\"text-align: right;\">\n",
       "      <th></th>\n",
       "      <th>email</th>\n",
       "      <th>Orderdate</th>\n",
       "      <th>OrderID</th>\n",
       "      <th>TurnoverLead</th>\n",
       "      <th>BuyinLead</th>\n",
       "      <th>LeadPhase</th>\n",
       "      <th>LeadStatus</th>\n",
       "    </tr>\n",
       "  </thead>\n",
       "  <tbody>\n",
       "    <tr>\n",
       "      <th>0</th>\n",
       "      <td>janneke.van.wingerden@hotmail.com</td>\n",
       "      <td>2014-04-22</td>\n",
       "      <td>27654</td>\n",
       "      <td>840.0</td>\n",
       "      <td>0.0</td>\n",
       "      <td>Order</td>\n",
       "      <td>Gefactureerd</td>\n",
       "    </tr>\n",
       "    <tr>\n",
       "      <th>1</th>\n",
       "      <td>info@ferox-design.com</td>\n",
       "      <td>2014-07-30</td>\n",
       "      <td>32291</td>\n",
       "      <td>235.0</td>\n",
       "      <td>0.0</td>\n",
       "      <td>Order</td>\n",
       "      <td>Gefactureerd</td>\n",
       "    </tr>\n",
       "    <tr>\n",
       "      <th>2</th>\n",
       "      <td>info@ferox-design.com</td>\n",
       "      <td>2014-07-30</td>\n",
       "      <td>32291</td>\n",
       "      <td>235.0</td>\n",
       "      <td>0.0</td>\n",
       "      <td>Order</td>\n",
       "      <td>Gefactureerd</td>\n",
       "    </tr>\n",
       "    <tr>\n",
       "      <th>3</th>\n",
       "      <td>tim@schoonderbeek-cv.nl</td>\n",
       "      <td>2014-09-30</td>\n",
       "      <td>38145</td>\n",
       "      <td>219.0</td>\n",
       "      <td>0.0</td>\n",
       "      <td>Order</td>\n",
       "      <td>Gefactureerd</td>\n",
       "    </tr>\n",
       "    <tr>\n",
       "      <th>4</th>\n",
       "      <td>jm@luxuria-import.com</td>\n",
       "      <td>2014-10-16</td>\n",
       "      <td>39348</td>\n",
       "      <td>635.0</td>\n",
       "      <td>0.0</td>\n",
       "      <td>Order</td>\n",
       "      <td>Gefactureerd</td>\n",
       "    </tr>\n",
       "  </tbody>\n",
       "</table>\n",
       "</div>"
      ],
      "text/plain": [
       "                               email  Orderdate  OrderID  TurnoverLead  \\\n",
       "0  janneke.van.wingerden@hotmail.com 2014-04-22    27654         840.0   \n",
       "1              info@ferox-design.com 2014-07-30    32291         235.0   \n",
       "2              info@ferox-design.com 2014-07-30    32291         235.0   \n",
       "3            tim@schoonderbeek-cv.nl 2014-09-30    38145         219.0   \n",
       "4              jm@luxuria-import.com 2014-10-16    39348         635.0   \n",
       "\n",
       "   BuyinLead LeadPhase    LeadStatus  \n",
       "0        0.0     Order  Gefactureerd  \n",
       "1        0.0     Order  Gefactureerd  \n",
       "2        0.0     Order  Gefactureerd  \n",
       "3        0.0     Order  Gefactureerd  \n",
       "4        0.0     Order  Gefactureerd  "
      ]
     },
     "execution_count": 76,
     "metadata": {},
     "output_type": "execute_result"
    }
   ],
   "source": [
    "# excel bestand maxilia geimporteerd en kolommen gefilterd \n",
    "\n",
    "data = pd.read_excel(r'/Users/LisannePeeters/Documents/GitHub/python/Sample dataset.xlsx') \n",
    "df = pd.DataFrame(data, columns = ['email','Orderdate','OrderID','TurnoverLead', 'BuyinLead', 'LeadPhase','LeadStatus'])\n",
    "df.head()"
   ]
  },
  {
   "cell_type": "code",
   "execution_count": 77,
   "metadata": {},
   "outputs": [
    {
     "name": "stdout",
     "output_type": "stream",
     "text": [
      "<class 'pandas.core.frame.DataFrame'>\n",
      "RangeIndex: 27 entries, 0 to 26\n",
      "Data columns (total 7 columns):\n",
      "email           27 non-null object\n",
      "Orderdate       27 non-null datetime64[ns]\n",
      "OrderID         27 non-null int64\n",
      "TurnoverLead    27 non-null float64\n",
      "BuyinLead       27 non-null float64\n",
      "LeadPhase       27 non-null object\n",
      "LeadStatus      27 non-null object\n",
      "dtypes: datetime64[ns](1), float64(2), int64(1), object(3)\n",
      "memory usage: 1.6+ KB\n"
     ]
    }
   ],
   "source": [
    "df.info()"
   ]
  },
  {
   "cell_type": "code",
   "execution_count": 78,
   "metadata": {},
   "outputs": [
    {
     "data": {
      "text/html": [
       "<div>\n",
       "<style scoped>\n",
       "    .dataframe tbody tr th:only-of-type {\n",
       "        vertical-align: middle;\n",
       "    }\n",
       "\n",
       "    .dataframe tbody tr th {\n",
       "        vertical-align: top;\n",
       "    }\n",
       "\n",
       "    .dataframe thead th {\n",
       "        text-align: right;\n",
       "    }\n",
       "</style>\n",
       "<table border=\"1\" class=\"dataframe\">\n",
       "  <thead>\n",
       "    <tr style=\"text-align: right;\">\n",
       "      <th></th>\n",
       "      <th>email</th>\n",
       "      <th>Orderdate</th>\n",
       "      <th>OrderID</th>\n",
       "      <th>TurnoverLead</th>\n",
       "      <th>BuyinLead</th>\n",
       "      <th>LeadPhase</th>\n",
       "      <th>LeadStatus</th>\n",
       "    </tr>\n",
       "  </thead>\n",
       "  <tbody>\n",
       "    <tr>\n",
       "      <th>0</th>\n",
       "      <td>janneke.van.wingerden@hotmail.com</td>\n",
       "      <td>2014-04-22</td>\n",
       "      <td>27654</td>\n",
       "      <td>840.0</td>\n",
       "      <td>0.0</td>\n",
       "      <td>Order</td>\n",
       "      <td>Gefactureerd</td>\n",
       "    </tr>\n",
       "    <tr>\n",
       "      <th>1</th>\n",
       "      <td>info@ferox-design.com</td>\n",
       "      <td>2014-07-30</td>\n",
       "      <td>32291</td>\n",
       "      <td>235.0</td>\n",
       "      <td>0.0</td>\n",
       "      <td>Order</td>\n",
       "      <td>Gefactureerd</td>\n",
       "    </tr>\n",
       "    <tr>\n",
       "      <th>2</th>\n",
       "      <td>info@ferox-design.com</td>\n",
       "      <td>2014-07-30</td>\n",
       "      <td>32291</td>\n",
       "      <td>235.0</td>\n",
       "      <td>0.0</td>\n",
       "      <td>Order</td>\n",
       "      <td>Gefactureerd</td>\n",
       "    </tr>\n",
       "    <tr>\n",
       "      <th>3</th>\n",
       "      <td>tim@schoonderbeek-cv.nl</td>\n",
       "      <td>2014-09-30</td>\n",
       "      <td>38145</td>\n",
       "      <td>219.0</td>\n",
       "      <td>0.0</td>\n",
       "      <td>Order</td>\n",
       "      <td>Gefactureerd</td>\n",
       "    </tr>\n",
       "    <tr>\n",
       "      <th>4</th>\n",
       "      <td>jm@luxuria-import.com</td>\n",
       "      <td>2014-10-16</td>\n",
       "      <td>39348</td>\n",
       "      <td>635.0</td>\n",
       "      <td>0.0</td>\n",
       "      <td>Order</td>\n",
       "      <td>Gefactureerd</td>\n",
       "    </tr>\n",
       "  </tbody>\n",
       "</table>\n",
       "</div>"
      ],
      "text/plain": [
       "                               email  Orderdate  OrderID  TurnoverLead  \\\n",
       "0  janneke.van.wingerden@hotmail.com 2014-04-22    27654         840.0   \n",
       "1              info@ferox-design.com 2014-07-30    32291         235.0   \n",
       "2              info@ferox-design.com 2014-07-30    32291         235.0   \n",
       "3            tim@schoonderbeek-cv.nl 2014-09-30    38145         219.0   \n",
       "4              jm@luxuria-import.com 2014-10-16    39348         635.0   \n",
       "\n",
       "   BuyinLead LeadPhase    LeadStatus  \n",
       "0        0.0     Order  Gefactureerd  \n",
       "1        0.0     Order  Gefactureerd  \n",
       "2        0.0     Order  Gefactureerd  \n",
       "3        0.0     Order  Gefactureerd  \n",
       "4        0.0     Order  Gefactureerd  "
      ]
     },
     "execution_count": 78,
     "metadata": {},
     "output_type": "execute_result"
    }
   ],
   "source": [
    "# lege rijen 'NaT' eruit gefilterd \n",
    "# Email bevat @ controle\n",
    "\n",
    "df = df.dropna(axis=0, how = 'any', inplace=False)\n",
    "df = df[~df['email'].str.contains('@')==False]\n",
    "df.head()"
   ]
  },
  {
   "cell_type": "code",
   "execution_count": 79,
   "metadata": {},
   "outputs": [],
   "source": [
    "df['Orderdate']=pd.to_datetime(df['Orderdate'], format='%d-%m-%Y')\n"
   ]
  },
  {
   "cell_type": "code",
   "execution_count": 80,
   "metadata": {},
   "outputs": [
    {
     "name": "stdout",
     "output_type": "stream",
     "text": [
      "<class 'pandas.core.frame.DataFrame'>\n",
      "Int64Index: 27 entries, 0 to 26\n",
      "Data columns (total 7 columns):\n",
      "email           27 non-null object\n",
      "Orderdate       27 non-null datetime64[ns]\n",
      "OrderID         27 non-null int64\n",
      "TurnoverLead    27 non-null float64\n",
      "BuyinLead       27 non-null float64\n",
      "LeadPhase       27 non-null object\n",
      "LeadStatus      27 non-null object\n",
      "dtypes: datetime64[ns](1), float64(2), int64(1), object(3)\n",
      "memory usage: 1.7+ KB\n"
     ]
    }
   ],
   "source": [
    "df.info()"
   ]
  },
  {
   "cell_type": "code",
   "execution_count": 81,
   "metadata": {},
   "outputs": [
    {
     "data": {
      "text/html": [
       "<div>\n",
       "<style scoped>\n",
       "    .dataframe tbody tr th:only-of-type {\n",
       "        vertical-align: middle;\n",
       "    }\n",
       "\n",
       "    .dataframe tbody tr th {\n",
       "        vertical-align: top;\n",
       "    }\n",
       "\n",
       "    .dataframe thead th {\n",
       "        text-align: right;\n",
       "    }\n",
       "</style>\n",
       "<table border=\"1\" class=\"dataframe\">\n",
       "  <thead>\n",
       "    <tr style=\"text-align: right;\">\n",
       "      <th></th>\n",
       "      <th>OrderID</th>\n",
       "      <th>TurnoverLead</th>\n",
       "      <th>BuyinLead</th>\n",
       "    </tr>\n",
       "  </thead>\n",
       "  <tbody>\n",
       "    <tr>\n",
       "      <th>count</th>\n",
       "      <td>27.000000</td>\n",
       "      <td>27.000000</td>\n",
       "      <td>27.0</td>\n",
       "    </tr>\n",
       "    <tr>\n",
       "      <th>mean</th>\n",
       "      <td>38899.962963</td>\n",
       "      <td>555.729630</td>\n",
       "      <td>0.0</td>\n",
       "    </tr>\n",
       "    <tr>\n",
       "      <th>std</th>\n",
       "      <td>3132.808920</td>\n",
       "      <td>667.923824</td>\n",
       "      <td>0.0</td>\n",
       "    </tr>\n",
       "    <tr>\n",
       "      <th>min</th>\n",
       "      <td>27654.000000</td>\n",
       "      <td>0.000000</td>\n",
       "      <td>0.0</td>\n",
       "    </tr>\n",
       "    <tr>\n",
       "      <th>25%</th>\n",
       "      <td>39645.000000</td>\n",
       "      <td>227.000000</td>\n",
       "      <td>0.0</td>\n",
       "    </tr>\n",
       "    <tr>\n",
       "      <th>50%</th>\n",
       "      <td>39895.000000</td>\n",
       "      <td>385.180000</td>\n",
       "      <td>0.0</td>\n",
       "    </tr>\n",
       "    <tr>\n",
       "      <th>75%</th>\n",
       "      <td>39895.000000</td>\n",
       "      <td>605.000000</td>\n",
       "      <td>0.0</td>\n",
       "    </tr>\n",
       "    <tr>\n",
       "      <th>max</th>\n",
       "      <td>42331.000000</td>\n",
       "      <td>2625.000000</td>\n",
       "      <td>0.0</td>\n",
       "    </tr>\n",
       "  </tbody>\n",
       "</table>\n",
       "</div>"
      ],
      "text/plain": [
       "            OrderID  TurnoverLead  BuyinLead\n",
       "count     27.000000     27.000000       27.0\n",
       "mean   38899.962963    555.729630        0.0\n",
       "std     3132.808920    667.923824        0.0\n",
       "min    27654.000000      0.000000        0.0\n",
       "25%    39645.000000    227.000000        0.0\n",
       "50%    39895.000000    385.180000        0.0\n",
       "75%    39895.000000    605.000000        0.0\n",
       "max    42331.000000   2625.000000        0.0"
      ]
     },
     "execution_count": 81,
     "metadata": {},
     "output_type": "execute_result"
    }
   ],
   "source": [
    "df.describe()"
   ]
  },
  {
   "cell_type": "code",
   "execution_count": 82,
   "metadata": {},
   "outputs": [
    {
     "data": {
      "text/html": [
       "<div>\n",
       "<style scoped>\n",
       "    .dataframe tbody tr th:only-of-type {\n",
       "        vertical-align: middle;\n",
       "    }\n",
       "\n",
       "    .dataframe tbody tr th {\n",
       "        vertical-align: top;\n",
       "    }\n",
       "\n",
       "    .dataframe thead th {\n",
       "        text-align: right;\n",
       "    }\n",
       "</style>\n",
       "<table border=\"1\" class=\"dataframe\">\n",
       "  <thead>\n",
       "    <tr style=\"text-align: right;\">\n",
       "      <th></th>\n",
       "      <th>email</th>\n",
       "      <th>Orderdate</th>\n",
       "      <th>OrderID</th>\n",
       "      <th>TurnoverLead</th>\n",
       "      <th>BuyinLead</th>\n",
       "      <th>LeadPhase</th>\n",
       "      <th>LeadStatus</th>\n",
       "    </tr>\n",
       "  </thead>\n",
       "  <tbody>\n",
       "    <tr>\n",
       "      <th>0</th>\n",
       "      <td>janneke.van.wingerden@hotmail.com</td>\n",
       "      <td>2014-04-22</td>\n",
       "      <td>27654</td>\n",
       "      <td>840.0</td>\n",
       "      <td>0.0</td>\n",
       "      <td>Order</td>\n",
       "      <td>Gefactureerd</td>\n",
       "    </tr>\n",
       "    <tr>\n",
       "      <th>1</th>\n",
       "      <td>info@ferox-design.com</td>\n",
       "      <td>2014-07-30</td>\n",
       "      <td>32291</td>\n",
       "      <td>235.0</td>\n",
       "      <td>0.0</td>\n",
       "      <td>Order</td>\n",
       "      <td>Gefactureerd</td>\n",
       "    </tr>\n",
       "    <tr>\n",
       "      <th>2</th>\n",
       "      <td>info@ferox-design.com</td>\n",
       "      <td>2014-07-30</td>\n",
       "      <td>32291</td>\n",
       "      <td>235.0</td>\n",
       "      <td>0.0</td>\n",
       "      <td>Order</td>\n",
       "      <td>Gefactureerd</td>\n",
       "    </tr>\n",
       "    <tr>\n",
       "      <th>3</th>\n",
       "      <td>tim@schoonderbeek-cv.nl</td>\n",
       "      <td>2014-09-30</td>\n",
       "      <td>38145</td>\n",
       "      <td>219.0</td>\n",
       "      <td>0.0</td>\n",
       "      <td>Order</td>\n",
       "      <td>Gefactureerd</td>\n",
       "    </tr>\n",
       "    <tr>\n",
       "      <th>4</th>\n",
       "      <td>jm@luxuria-import.com</td>\n",
       "      <td>2014-10-16</td>\n",
       "      <td>39348</td>\n",
       "      <td>635.0</td>\n",
       "      <td>0.0</td>\n",
       "      <td>Order</td>\n",
       "      <td>Gefactureerd</td>\n",
       "    </tr>\n",
       "  </tbody>\n",
       "</table>\n",
       "</div>"
      ],
      "text/plain": [
       "                               email  Orderdate  OrderID  TurnoverLead  \\\n",
       "0  janneke.van.wingerden@hotmail.com 2014-04-22    27654         840.0   \n",
       "1              info@ferox-design.com 2014-07-30    32291         235.0   \n",
       "2              info@ferox-design.com 2014-07-30    32291         235.0   \n",
       "3            tim@schoonderbeek-cv.nl 2014-09-30    38145         219.0   \n",
       "4              jm@luxuria-import.com 2014-10-16    39348         635.0   \n",
       "\n",
       "   BuyinLead LeadPhase    LeadStatus  \n",
       "0        0.0     Order  Gefactureerd  \n",
       "1        0.0     Order  Gefactureerd  \n",
       "2        0.0     Order  Gefactureerd  \n",
       "3        0.0     Order  Gefactureerd  \n",
       "4        0.0     Order  Gefactureerd  "
      ]
     },
     "execution_count": 82,
     "metadata": {},
     "output_type": "execute_result"
    }
   ],
   "source": [
    "# Leadphase = order\n",
    "# Leadstatus = gefactureerd\n",
    "df = df[~df['LeadPhase'].str.contains('Order')==False]\n",
    "df = df[~df['LeadStatus'].str.contains('Gefactureerd')==False]\n",
    "df.head()"
   ]
  },
  {
   "cell_type": "code",
   "execution_count": 83,
   "metadata": {},
   "outputs": [
    {
     "name": "stdout",
     "output_type": "stream",
     "text": [
      "<class 'pandas.core.frame.DataFrame'>\n",
      "Int64Index: 27 entries, 0 to 26\n",
      "Data columns (total 7 columns):\n",
      "email           27 non-null object\n",
      "Orderdate       27 non-null datetime64[ns]\n",
      "OrderID         27 non-null int64\n",
      "TurnoverLead    27 non-null float64\n",
      "BuyinLead       27 non-null float64\n",
      "LeadPhase       27 non-null object\n",
      "LeadStatus      27 non-null object\n",
      "dtypes: datetime64[ns](1), float64(2), int64(1), object(3)\n",
      "memory usage: 1.7+ KB\n"
     ]
    }
   ],
   "source": [
    "df.info()"
   ]
  },
  {
   "cell_type": "code",
   "execution_count": 84,
   "metadata": {},
   "outputs": [],
   "source": [
    "# Check data bevat voldoet aan bepaalde condities\n",
    "assert ptypes.is_datetime64_any_dtype(df['Orderdate'])\n",
    "assert df['email'].str.contains('@').all()\n",
    "assert df['LeadPhase'].eq('Order').all()\n",
    "assert df['LeadStatus'].eq('Gefactureerd').all()\n"
   ]
  },
  {
   "cell_type": "markdown",
   "metadata": {},
   "source": [
    "# Data grouperen per klant"
   ]
  },
  {
   "cell_type": "code",
   "execution_count": 85,
   "metadata": {},
   "outputs": [
    {
     "data": {
      "text/html": [
       "<div>\n",
       "<style scoped>\n",
       "    .dataframe tbody tr th:only-of-type {\n",
       "        vertical-align: middle;\n",
       "    }\n",
       "\n",
       "    .dataframe tbody tr th {\n",
       "        vertical-align: top;\n",
       "    }\n",
       "\n",
       "    .dataframe thead th {\n",
       "        text-align: right;\n",
       "    }\n",
       "</style>\n",
       "<table border=\"1\" class=\"dataframe\">\n",
       "  <thead>\n",
       "    <tr style=\"text-align: right;\">\n",
       "      <th></th>\n",
       "      <th>Orderdate</th>\n",
       "      <th>OrderID</th>\n",
       "      <th>TurnoverLead</th>\n",
       "    </tr>\n",
       "    <tr>\n",
       "      <th>email</th>\n",
       "      <th></th>\n",
       "      <th></th>\n",
       "      <th></th>\n",
       "    </tr>\n",
       "  </thead>\n",
       "  <tbody>\n",
       "    <tr>\n",
       "      <th>annelammertink@live.nl</th>\n",
       "      <td>0</td>\n",
       "      <td>1</td>\n",
       "      <td>0.00</td>\n",
       "    </tr>\n",
       "    <tr>\n",
       "      <th>c.huigen@denf.nl</th>\n",
       "      <td>0</td>\n",
       "      <td>1</td>\n",
       "      <td>1057.00</td>\n",
       "    </tr>\n",
       "    <tr>\n",
       "      <th>d.engelkes@welzijnbergen.nl</th>\n",
       "      <td>0</td>\n",
       "      <td>3</td>\n",
       "      <td>0.00</td>\n",
       "    </tr>\n",
       "    <tr>\n",
       "      <th>e.kroon@kbkbouwgroep.nl</th>\n",
       "      <td>0</td>\n",
       "      <td>1</td>\n",
       "      <td>177.40</td>\n",
       "    </tr>\n",
       "    <tr>\n",
       "      <th>info@airportmultiservice.com</th>\n",
       "      <td>0</td>\n",
       "      <td>1</td>\n",
       "      <td>1027.52</td>\n",
       "    </tr>\n",
       "  </tbody>\n",
       "</table>\n",
       "</div>"
      ],
      "text/plain": [
       "                              Orderdate  OrderID  TurnoverLead\n",
       "email                                                         \n",
       "annelammertink@live.nl                0        1          0.00\n",
       "c.huigen@denf.nl                      0        1       1057.00\n",
       "d.engelkes@welzijnbergen.nl           0        3          0.00\n",
       "e.kroon@kbkbouwgroep.nl               0        1        177.40\n",
       "info@airportmultiservice.com          0        1       1027.52"
      ]
     },
     "execution_count": 85,
     "metadata": {},
     "output_type": "execute_result"
    }
   ],
   "source": [
    "# group by customer ID\n",
    "# hoeveel orders zijn er gedaan per customer\n",
    "# totale uitgaven per customer \n",
    "\n",
    "df_clv = df.groupby('email').agg({\n",
    "                                                        'Orderdate': lambda date: (date.max() - date.min()).days,\n",
    "                                                        'OrderID': lambda num: len(num), \n",
    "                                                        'TurnoverLead': lambda price: price.sum()\n",
    "                                                    }) \n",
    "df_clv.head()"
   ]
  },
  {
   "cell_type": "code",
   "execution_count": null,
   "metadata": {},
   "outputs": [],
   "source": [
    "# rename kolommen \n",
    "\n",
    "df_clv.columns = ['days_customer', 'total_transactions', 'total_spent']\n",
    "df_clv.head()"
   ]
  },
  {
   "cell_type": "code",
   "execution_count": null,
   "metadata": {},
   "outputs": [],
   "source": [
    "df_clv.describe()"
   ]
  },
  {
   "cell_type": "markdown",
   "metadata": {},
   "source": [
    "# Berekenen van de totale CLV"
   ]
  },
  {
   "cell_type": "code",
   "execution_count": null,
   "metadata": {},
   "outputs": [],
   "source": [
    "# gemiddelde order waarde \n",
    "\n",
    "avg_order_value = sum(df_clv['total_spent']) / sum(df_clv['total_transactions'])\n",
    "print(avg_order_value)"
   ]
  },
  {
   "cell_type": "code",
   "execution_count": null,
   "metadata": {},
   "outputs": [],
   "source": [
    "# hoe vaak koopt iemand gemiddeld iets\n",
    "\n",
    "purchase_frequency = sum(df_clv['total_transactions']) / df_clv.shape[0]\n",
    "print(purchase_frequency)"
   ]
  },
  {
   "cell_type": "code",
   "execution_count": null,
   "metadata": {},
   "outputs": [],
   "source": [
    "# hoe vaak komt iemand terug\n",
    "\n",
    "repeat_rate = df_clv[df_clv.total_transactions > 1].shape[0] / df_clv.shape[0] \n",
    "print(repeat_rate)"
   ]
  },
  {
   "cell_type": "code",
   "execution_count": null,
   "metadata": {},
   "outputs": [],
   "source": [
    "# churnrate: hoeveel % doet na 1 aankoop geen bestelling meer\n",
    "\n",
    "churn_rate = 1 - repeat_rate\n",
    "print(churn_rate)"
   ]
  },
  {
   "cell_type": "code",
   "execution_count": null,
   "metadata": {},
   "outputs": [],
   "source": [
    "# gemiddelde marge  \n",
    "\n",
    "profit = sum(df['TurnoverLead']) - sum(df['BuyinLead'])\n",
    "margin = profit / sum(df['TurnoverLead'])\n",
    "    \n",
    "print(margin)"
   ]
  },
  {
   "cell_type": "code",
   "execution_count": null,
   "metadata": {},
   "outputs": [],
   "source": [
    "# totale clv & clv marge \n",
    "# in het blok hierboven is de marge berekend ('margin'), maar je kan ook een getal noteren ipv 'margin'\n",
    "\n",
    "total_clv = (avg_order_value * purchase_frequency) / churn_rate \n",
    "total_clv_margin = total_clv * margin\n",
    "\n",
    "print(total_clv) # het eerste getal is de totale clv\n",
    "print(total_clv_margin) # het tweede getal is de clv waarbij rekening is gehouden met de berekende marge"
   ]
  },
  {
   "cell_type": "code",
   "execution_count": null,
   "metadata": {},
   "outputs": [],
   "source": [
    "# Bovenstaande cijfers in kolom neerzetten zodat de data in datastudio kan worden gebruikt\n",
    "set_total_clv = avg_order_value, purchase_frequency, churn_rate, total_clv, total_clv_margin \n",
    "df_total_clv = pd.DataFrame(set_total_clv, columns= ['Waarde'], index = ['Gemiddelde orderwaarde' , 'Frequentie aankoop', 'Churn rate' , 'CLV', 'CLV marge'])\n",
    "df_clv_values=df_total_clv.T.groupby(level=0).agg(lambda x : x.values.tolist()).stack().apply(pd.Series).unstack().sort_index(level=1,axis=1)\n",
    "df_clv_values.columns=df_clv_values.columns.droplevel(level=0)\n",
    "df_clv_values.head()"
   ]
  },
  {
   "cell_type": "code",
   "execution_count": null,
   "metadata": {},
   "outputs": [],
   "source": [
    "df_clv_values.to_excel('CLV_waardes.xlsx')"
   ]
  },
  {
   "cell_type": "markdown",
   "metadata": {},
   "source": [
    "   # Transacties en churn rate per maand uiteenzetten"
   ]
  },
  {
   "cell_type": "code",
   "execution_count": null,
   "metadata": {},
   "outputs": [],
   "source": [
    "# transacties per klant per maand uiteenzetten\n",
    "df_monthly = df.set_index('Orderdate')\n",
    "df_monthly = df_monthly.pivot_table(\n",
    "    index=['email'],\n",
    "    columns=pd.Grouper(freq='M'),\n",
    "    values='OrderID', \n",
    "    aggfunc='count',\n",
    "    fill_value=0\n",
    ")\n",
    "\n",
    "# Format column headers to human readable format\n",
    "df_monthly.columns = [x.strftime('%b %Y') for x in df_monthly.columns]\n",
    "df_monthly.head()"
   ]
  },
  {
   "cell_type": "code",
   "execution_count": null,
   "metadata": {},
   "outputs": [],
   "source": [
    "repeat_rate = df_monthly[df_monthly > 1].count() / df_monthly[df_monthly > 0].count()\n",
    "df_churn = repeat_rate.to_frame(name='repeat_rate')"
   ]
  },
  {
   "cell_type": "code",
   "execution_count": null,
   "metadata": {},
   "outputs": [],
   "source": [
    "df_churn['churn_rate'] = 1 - df_churn['repeat_rate']\n",
    "df_churn.head()\n"
   ]
  },
  {
   "cell_type": "markdown",
   "metadata": {},
   "source": [
    "# CLV per klant uitrekenen"
   ]
  },
  {
   "cell_type": "code",
   "execution_count": null,
   "metadata": {},
   "outputs": [],
   "source": [
    "# clv per customer\n",
    "\n",
    "df_clv['customer_order_value'] = df_clv['total_spent'] / df_clv['total_transactions']\n",
    "df_clv['customer_clv'] = (df_clv['customer_order_value'] * purchase_frequency) / churn_rate\n",
    "df_clv['customer_clv_margin'] = df_clv['customer_clv'] * margin\n",
    "\n",
    "df_clv.head()"
   ]
  },
  {
   "cell_type": "code",
   "execution_count": null,
   "metadata": {},
   "outputs": [],
   "source": [
    "df_clv.describe()"
   ]
  },
  {
   "cell_type": "code",
   "execution_count": null,
   "metadata": {},
   "outputs": [],
   "source": [
    "df_clv.to_excel('CLV_per_klant.xlsx')"
   ]
  },
  {
   "cell_type": "code",
   "execution_count": null,
   "metadata": {},
   "outputs": [],
   "source": [
    "# Uiteenzetting uitgaves klanten per maand\n",
    "df['month_yr'] = df['Orderdate'].apply(lambda x: x.strftime('%b %Y'))\n",
    "df.head()\n"
   ]
  },
  {
   "cell_type": "code",
   "execution_count": null,
   "metadata": {},
   "outputs": [],
   "source": [
    "#totale transacties / opbrengst per maand\n",
    "\n",
    "df_transacties = df.groupby('month_yr').aggregate({\n",
    "                                                        'OrderID': lambda num: len(num), \n",
    "                                                        'TurnoverLead': lambda price: price.sum(),\n",
    "                                                        'email': pd.Series.nunique\n",
    "                                                    }) \n",
    "df_transacties.head()"
   ]
  },
  {
   "cell_type": "code",
   "execution_count": null,
   "metadata": {},
   "outputs": [],
   "source": [
    "df_transacties.info()"
   ]
  },
  {
   "cell_type": "code",
   "execution_count": null,
   "metadata": {},
   "outputs": [],
   "source": [
    "df_transacties.columns = ['total_transactions', 'total_spent', 'total_unique_customers']\n",
    "df_transacties.head()"
   ]
  },
  {
   "cell_type": "code",
   "execution_count": null,
   "metadata": {},
   "outputs": [],
   "source": [
    "df_transacties.describe()"
   ]
  },
  {
   "cell_type": "code",
   "execution_count": null,
   "metadata": {},
   "outputs": [],
   "source": [
    "df_transacties.to_excel('Overzicht_per_maand.xlsx')"
   ]
  },
  {
   "cell_type": "markdown",
   "metadata": {},
   "source": [
    "# CLV per maand berekenen"
   ]
  },
  {
   "cell_type": "code",
   "execution_count": null,
   "metadata": {},
   "outputs": [],
   "source": [
    "# CLV per maand berekenen\n",
    "df_transacties['purchase_frequency_month'] = df_transacties['total_transactions'] / df_transacties['total_unique_customers']\n",
    "df_transacties['avg_order_value_month'] = df_transacties['total_spent'] / df_transacties['total_transactions'] \n",
    "df_transacties['CLV'] = (df_transacties['avg_order_value_month'] * df_transacties['purchase_frequency_month']) / df_churn['churn_rate']\n",
    "df_transacties['CLV_margin'] = df_transacties['CLV'] * margin\n",
    "df_transacties.head()"
   ]
  },
  {
   "cell_type": "code",
   "execution_count": null,
   "metadata": {},
   "outputs": [],
   "source": [
    "df_clv_cum = pd.DataFrame(df_transacties.iloc[:,-2])\n",
    "df_clv_cum['CLV_cumulatief'] = df_clv_cum.rolling(window=4).mean()\n",
    "df_clv_cum.head()"
   ]
  },
  {
   "cell_type": "markdown",
   "metadata": {},
   "source": [
    "# Statistieken CLV per klant"
   ]
  },
  {
   "cell_type": "code",
   "execution_count": null,
   "metadata": {},
   "outputs": [],
   "source": [
    "# statistieken van clv per customer \n",
    "\n",
    "import statistics\n",
    "\n",
    "df_clv_list = df_clv['customer_clv'].values\n",
    "\n",
    "x1 = statistics.mean(df_clv_list) # eerste getal is gemiddelde\n",
    "x2 = statistics.median(df_clv_list) # tweede getal is mediaan\n",
    "x3 = statistics.mode(df_clv_list) # derde getal is de modus \n",
    "x4 = statistics.stdev(df_clv_list) # vierde getal is de standaarddeviatie \n",
    "\n",
    "print(x1) \n",
    "print(x2) \n",
    "print(x3) \n",
    "print(x4)"
   ]
  },
  {
   "cell_type": "code",
   "execution_count": null,
   "metadata": {},
   "outputs": [],
   "source": [
    "# box plot: visuele weergaven van de verdeling van de clv \n",
    "# zichtbaar = minimum, maximum, mediaan en kwartielafstanden \n",
    "\n",
    "import matplotlib.pyplot as plt \n",
    "df_clv.plot(y = 'customer_clv', kind = 'box') \n",
    "plt.show()"
   ]
  },
  {
   "cell_type": "code",
   "execution_count": null,
   "metadata": {},
   "outputs": [],
   "source": [
    "# histogram plot: visuele weergaven van frequentie verdeling van de clv \n",
    "# hoe vaak komt een clv waarde voor \n",
    "\n",
    "import matplotlib.pyplot as plt \n",
    "df_clv.plot(y = 'customer_clv', kind = 'hist') \n",
    "plt.show()"
   ]
  },
  {
   "cell_type": "code",
   "execution_count": null,
   "metadata": {},
   "outputs": [],
   "source": []
  },
  {
   "cell_type": "code",
   "execution_count": null,
   "metadata": {},
   "outputs": [],
   "source": []
  }
 ],
 "metadata": {
  "kernelspec": {
   "display_name": "Python 3",
   "language": "python",
   "name": "python3"
  },
  "language_info": {
   "codemirror_mode": {
    "name": "ipython",
    "version": 3
   },
   "file_extension": ".py",
   "mimetype": "text/x-python",
   "name": "python",
   "nbconvert_exporter": "python",
   "pygments_lexer": "ipython3",
   "version": "3.7.3"
  }
 },
 "nbformat": 4,
 "nbformat_minor": 2
}
